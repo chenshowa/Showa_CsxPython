{
 "cells": [
  {
   "cell_type": "code",
   "execution_count": 9,
   "metadata": {
    "collapsed": true
   },
   "outputs": [],
   "source": [
    "import pandas as pd"
   ]
  },
  {
   "cell_type": "code",
   "execution_count": 10,
   "metadata": {
    "collapsed": false
   },
   "outputs": [],
   "source": [
    "df = pd.read_csv(r'C:\\Users\\chenhur\\Documents\\GitHub\\Showa_CsxPython\\week1\\Ntu_Orders.csv')"
   ]
  },
  {
   "cell_type": "code",
   "execution_count": 11,
   "metadata": {
    "collapsed": false
   },
   "outputs": [
    {
     "data": {
      "text/plain": [
       "(2268348, 27)"
      ]
     },
     "execution_count": 11,
     "metadata": {},
     "output_type": "execute_result"
    }
   ],
   "source": [
    "df.shape"
   ]
  },
  {
   "cell_type": "code",
   "execution_count": 12,
   "metadata": {
    "collapsed": false
   },
   "outputs": [
    {
     "name": "stdout",
     "output_type": "stream",
     "text": [
      "<class 'pandas.core.frame.DataFrame'>\n",
      "RangeIndex: 2268348 entries, 0 to 2268347\n",
      "Data columns (total 27 columns):\n",
      "﻿SalesOrderSlaveId             int64\n",
      "DateId                         int64\n",
      "MemberId                       object\n",
      "TradesOrderSlaveId             int64\n",
      "ShopId                         int64\n",
      "SalePageId                     int64\n",
      "TradesOrderGroupCode           object\n",
      "TrackSourceTypeDef             object\n",
      "TrackChannelTypeDef            object\n",
      "TrackDeviceTypeDef             object\n",
      "LevelOneCategoryName           object\n",
      "LevelTwoCategoryName           object\n",
      "LevelThreeCategoryName         object\n",
      "LevelFourCategoryName          object\n",
      "IsMajor                        bool\n",
      "IsGift                         bool\n",
      "Quantity                       int64\n",
      "UnitPrice                      float64\n",
      "PromotionDiscount              float64\n",
      "EcouponDiscount                float64\n",
      "SalesOrderSlaveTotalPayment    float64\n",
      "SalesOrderSlaveDateTime        object\n",
      "SalesOrderSlaveStatusDef       object\n",
      "PayProfileTypeDef              object\n",
      "ShippingProfileTypeDef         object\n",
      "EcouponId                      float64\n",
      "IsSalePageGift                 bool\n",
      "dtypes: bool(3), float64(5), int64(6), object(13)\n",
      "memory usage: 421.8+ MB\n"
     ]
    }
   ],
   "source": [
    "df.info()"
   ]
  },
  {
   "cell_type": "code",
   "execution_count": 13,
   "metadata": {
    "collapsed": false
   },
   "outputs": [],
   "source": [
    "df['new_DateId'] = pd.to_datetime(df['DateId'].astype(str), format='%Y%m%d')"
   ]
  },
  {
   "cell_type": "code",
   "execution_count": 14,
   "metadata": {
    "collapsed": false
   },
   "outputs": [
    {
     "name": "stdout",
     "output_type": "stream",
     "text": [
      "<class 'pandas.core.frame.DataFrame'>\n",
      "RangeIndex: 2268348 entries, 0 to 2268347\n",
      "Data columns (total 28 columns):\n",
      "﻿SalesOrderSlaveId             int64\n",
      "DateId                         int64\n",
      "MemberId                       object\n",
      "TradesOrderSlaveId             int64\n",
      "ShopId                         int64\n",
      "SalePageId                     int64\n",
      "TradesOrderGroupCode           object\n",
      "TrackSourceTypeDef             object\n",
      "TrackChannelTypeDef            object\n",
      "TrackDeviceTypeDef             object\n",
      "LevelOneCategoryName           object\n",
      "LevelTwoCategoryName           object\n",
      "LevelThreeCategoryName         object\n",
      "LevelFourCategoryName          object\n",
      "IsMajor                        bool\n",
      "IsGift                         bool\n",
      "Quantity                       int64\n",
      "UnitPrice                      float64\n",
      "PromotionDiscount              float64\n",
      "EcouponDiscount                float64\n",
      "SalesOrderSlaveTotalPayment    float64\n",
      "SalesOrderSlaveDateTime        object\n",
      "SalesOrderSlaveStatusDef       object\n",
      "PayProfileTypeDef              object\n",
      "ShippingProfileTypeDef         object\n",
      "EcouponId                      float64\n",
      "IsSalePageGift                 bool\n",
      "new_DateId                     datetime64[ns]\n",
      "dtypes: bool(3), datetime64[ns](1), float64(5), int64(6), object(13)\n",
      "memory usage: 439.1+ MB\n"
     ]
    }
   ],
   "source": [
    "df.info()"
   ]
  },
  {
   "cell_type": "code",
   "execution_count": 15,
   "metadata": {
    "collapsed": false
   },
   "outputs": [
    {
     "data": {
      "text/html": [
       "<div>\n",
       "<table border=\"1\" class=\"dataframe\">\n",
       "  <thead>\n",
       "    <tr style=\"text-align: right;\">\n",
       "      <th></th>\n",
       "      <th>﻿SalesOrderSlaveId</th>\n",
       "      <th>DateId</th>\n",
       "      <th>MemberId</th>\n",
       "      <th>TradesOrderSlaveId</th>\n",
       "      <th>ShopId</th>\n",
       "      <th>SalePageId</th>\n",
       "      <th>TradesOrderGroupCode</th>\n",
       "      <th>TrackSourceTypeDef</th>\n",
       "      <th>TrackChannelTypeDef</th>\n",
       "      <th>TrackDeviceTypeDef</th>\n",
       "      <th>...</th>\n",
       "      <th>PromotionDiscount</th>\n",
       "      <th>EcouponDiscount</th>\n",
       "      <th>SalesOrderSlaveTotalPayment</th>\n",
       "      <th>SalesOrderSlaveDateTime</th>\n",
       "      <th>SalesOrderSlaveStatusDef</th>\n",
       "      <th>PayProfileTypeDef</th>\n",
       "      <th>ShippingProfileTypeDef</th>\n",
       "      <th>EcouponId</th>\n",
       "      <th>IsSalePageGift</th>\n",
       "      <th>new_DateId</th>\n",
       "    </tr>\n",
       "  </thead>\n",
       "  <tbody>\n",
       "    <tr>\n",
       "      <th>0</th>\n",
       "      <td>26914456</td>\n",
       "      <td>20170103</td>\n",
       "      <td>48D5DE26-236E-4854-8474-B0DCEAFF4F42</td>\n",
       "      <td>26971960</td>\n",
       "      <td>1317</td>\n",
       "      <td>9804</td>\n",
       "      <td>b'q\\x14\\xa49\\xaa\\\\\\xecs\\xff6wH\\xfbXd\\x93\\xfbf\\...</td>\n",
       "      <td>Web</td>\n",
       "      <td>Brand</td>\n",
       "      <td>Mobile</td>\n",
       "      <td>...</td>\n",
       "      <td>-25.0</td>\n",
       "      <td>0.0</td>\n",
       "      <td>374.0</td>\n",
       "      <td>2017-01-03 23:11:47.207</td>\n",
       "      <td>Finish</td>\n",
       "      <td>SevenEleven</td>\n",
       "      <td>SevenEleven</td>\n",
       "      <td>NaN</td>\n",
       "      <td>False</td>\n",
       "      <td>2017-01-03</td>\n",
       "    </tr>\n",
       "    <tr>\n",
       "      <th>1</th>\n",
       "      <td>26914457</td>\n",
       "      <td>20170103</td>\n",
       "      <td>48D5DE26-236E-4854-8474-B0DCEAFF4F42</td>\n",
       "      <td>26971961</td>\n",
       "      <td>1317</td>\n",
       "      <td>9804</td>\n",
       "      <td>b'q\\x14\\xa49\\xaa\\\\\\xecs\\xff6wH\\xfbXd\\x93\\xfbf\\...</td>\n",
       "      <td>Web</td>\n",
       "      <td>Brand</td>\n",
       "      <td>Mobile</td>\n",
       "      <td>...</td>\n",
       "      <td>-25.0</td>\n",
       "      <td>0.0</td>\n",
       "      <td>374.0</td>\n",
       "      <td>2017-01-03 23:11:47.223</td>\n",
       "      <td>Finish</td>\n",
       "      <td>SevenEleven</td>\n",
       "      <td>SevenEleven</td>\n",
       "      <td>NaN</td>\n",
       "      <td>False</td>\n",
       "      <td>2017-01-03</td>\n",
       "    </tr>\n",
       "    <tr>\n",
       "      <th>2</th>\n",
       "      <td>26767644</td>\n",
       "      <td>20170101</td>\n",
       "      <td>C8B989DB-05F9-42D3-BD4F-E203482C5E58</td>\n",
       "      <td>26825136</td>\n",
       "      <td>1317</td>\n",
       "      <td>10118</td>\n",
       "      <td>b'\\x1d\\x8f}\\x12lu&gt;.&amp;\\xfc\\xbc\\xe0\\xd2\\xad\\xe5\\x...</td>\n",
       "      <td>Web</td>\n",
       "      <td>Brand</td>\n",
       "      <td>Mobile</td>\n",
       "      <td>...</td>\n",
       "      <td>-34.0</td>\n",
       "      <td>0.0</td>\n",
       "      <td>316.0</td>\n",
       "      <td>2017-01-01 17:21:32.113</td>\n",
       "      <td>Finish</td>\n",
       "      <td>Family</td>\n",
       "      <td>Family</td>\n",
       "      <td>NaN</td>\n",
       "      <td>False</td>\n",
       "      <td>2017-01-01</td>\n",
       "    </tr>\n",
       "    <tr>\n",
       "      <th>3</th>\n",
       "      <td>26780512</td>\n",
       "      <td>20170101</td>\n",
       "      <td>C39E36F7-5091-48DA-BE8F-8CE043E009EE</td>\n",
       "      <td>26837997</td>\n",
       "      <td>1317</td>\n",
       "      <td>10036</td>\n",
       "      <td>b'&amp;QI#u)\\xf8\\xf7\\n6\\x01~\\xd1\\xf3,\\x1f\\xb8\\xe3\\...</td>\n",
       "      <td>Web</td>\n",
       "      <td>Brand</td>\n",
       "      <td>Mobile</td>\n",
       "      <td>...</td>\n",
       "      <td>-57.0</td>\n",
       "      <td>0.0</td>\n",
       "      <td>483.0</td>\n",
       "      <td>2017-01-01 21:41:58.153</td>\n",
       "      <td>Finish</td>\n",
       "      <td>Family</td>\n",
       "      <td>Family</td>\n",
       "      <td>NaN</td>\n",
       "      <td>False</td>\n",
       "      <td>2017-01-01</td>\n",
       "    </tr>\n",
       "    <tr>\n",
       "      <th>4</th>\n",
       "      <td>26823950</td>\n",
       "      <td>20170102</td>\n",
       "      <td>7D87099A-B49C-4136-A8E9-F76BB5588B19</td>\n",
       "      <td>26881442</td>\n",
       "      <td>1317</td>\n",
       "      <td>10268</td>\n",
       "      <td>b'\\xfd\\x0b\\x9ee\\xdc\\xaea@\\x102;jX\\xfek\\x99m\\x1...</td>\n",
       "      <td>Web</td>\n",
       "      <td>Brand</td>\n",
       "      <td>Mobile</td>\n",
       "      <td>...</td>\n",
       "      <td>-44.0</td>\n",
       "      <td>0.0</td>\n",
       "      <td>401.0</td>\n",
       "      <td>2017-01-02 15:37:33.610</td>\n",
       "      <td>Finish</td>\n",
       "      <td>Family</td>\n",
       "      <td>Family</td>\n",
       "      <td>NaN</td>\n",
       "      <td>False</td>\n",
       "      <td>2017-01-02</td>\n",
       "    </tr>\n",
       "    <tr>\n",
       "      <th>5</th>\n",
       "      <td>26881155</td>\n",
       "      <td>20170103</td>\n",
       "      <td>2ED6E54C-A7B0-447F-B3C7-8B0CA4536E54</td>\n",
       "      <td>26938659</td>\n",
       "      <td>1317</td>\n",
       "      <td>9897</td>\n",
       "      <td>b'\\x9a\\xee\\xee\\xb30pf8d\\x0bp\\x8b\\xaa\\xde\\xa8\\x...</td>\n",
       "      <td>Web</td>\n",
       "      <td>Brand</td>\n",
       "      <td>Mobile</td>\n",
       "      <td>...</td>\n",
       "      <td>-24.0</td>\n",
       "      <td>0.0</td>\n",
       "      <td>156.0</td>\n",
       "      <td>2017-01-03 12:56:21.980</td>\n",
       "      <td>Finish</td>\n",
       "      <td>Family</td>\n",
       "      <td>Family</td>\n",
       "      <td>NaN</td>\n",
       "      <td>False</td>\n",
       "      <td>2017-01-03</td>\n",
       "    </tr>\n",
       "    <tr>\n",
       "      <th>6</th>\n",
       "      <td>26928963</td>\n",
       "      <td>20170104</td>\n",
       "      <td>6B11D879-C56E-4057-A6A0-45C30732F542</td>\n",
       "      <td>26986470</td>\n",
       "      <td>1317</td>\n",
       "      <td>10029</td>\n",
       "      <td>b'\\x9e\\xc5{\\xe4\\xfd_\\xa9XP\\x19*\\xc4\\x9c\"\\x0b%\\...</td>\n",
       "      <td>Web</td>\n",
       "      <td>Brand</td>\n",
       "      <td>Mobile</td>\n",
       "      <td>...</td>\n",
       "      <td>-26.0</td>\n",
       "      <td>0.0</td>\n",
       "      <td>223.0</td>\n",
       "      <td>2017-01-04 08:31:00.313</td>\n",
       "      <td>Finish</td>\n",
       "      <td>Family</td>\n",
       "      <td>Family</td>\n",
       "      <td>NaN</td>\n",
       "      <td>False</td>\n",
       "      <td>2017-01-04</td>\n",
       "    </tr>\n",
       "    <tr>\n",
       "      <th>7</th>\n",
       "      <td>26942457</td>\n",
       "      <td>20170104</td>\n",
       "      <td>249FEB46-134C-4DE3-902D-73D289D130DB</td>\n",
       "      <td>26999964</td>\n",
       "      <td>1317</td>\n",
       "      <td>10029</td>\n",
       "      <td>b'\\xf7\\xca\\xed\\xd5\\xaf{\\xfem\\xa4\\x88\\x16)0\\x88...</td>\n",
       "      <td>Web</td>\n",
       "      <td>Brand</td>\n",
       "      <td>Mobile</td>\n",
       "      <td>...</td>\n",
       "      <td>-13.0</td>\n",
       "      <td>0.0</td>\n",
       "      <td>236.0</td>\n",
       "      <td>2017-01-04 13:58:47.880</td>\n",
       "      <td>Finish</td>\n",
       "      <td>Family</td>\n",
       "      <td>Family</td>\n",
       "      <td>NaN</td>\n",
       "      <td>False</td>\n",
       "      <td>2017-01-04</td>\n",
       "    </tr>\n",
       "    <tr>\n",
       "      <th>8</th>\n",
       "      <td>26945149</td>\n",
       "      <td>20170104</td>\n",
       "      <td>54B80CB7-78BA-49D7-9850-0A61A9B67E03</td>\n",
       "      <td>27002656</td>\n",
       "      <td>1317</td>\n",
       "      <td>8823</td>\n",
       "      <td>b'\\t\\x90\\xf9\\xe6sc\\x9d\\xe3%eZ,C$\\x8f{~\\xe6`\\xa8'</td>\n",
       "      <td>Web</td>\n",
       "      <td>Brand</td>\n",
       "      <td>Mobile</td>\n",
       "      <td>...</td>\n",
       "      <td>-25.0</td>\n",
       "      <td>0.0</td>\n",
       "      <td>225.0</td>\n",
       "      <td>2017-01-04 14:51:30.517</td>\n",
       "      <td>Finish</td>\n",
       "      <td>Family</td>\n",
       "      <td>Family</td>\n",
       "      <td>NaN</td>\n",
       "      <td>False</td>\n",
       "      <td>2017-01-04</td>\n",
       "    </tr>\n",
       "    <tr>\n",
       "      <th>9</th>\n",
       "      <td>26914458</td>\n",
       "      <td>20170103</td>\n",
       "      <td>48D5DE26-236E-4854-8474-B0DCEAFF4F42</td>\n",
       "      <td>26971962</td>\n",
       "      <td>1317</td>\n",
       "      <td>9804</td>\n",
       "      <td>b'q\\x14\\xa49\\xaa\\\\\\xecs\\xff6wH\\xfbXd\\x93\\xfbf\\...</td>\n",
       "      <td>Web</td>\n",
       "      <td>Brand</td>\n",
       "      <td>Mobile</td>\n",
       "      <td>...</td>\n",
       "      <td>-25.0</td>\n",
       "      <td>0.0</td>\n",
       "      <td>374.0</td>\n",
       "      <td>2017-01-03 23:11:47.223</td>\n",
       "      <td>Finish</td>\n",
       "      <td>SevenEleven</td>\n",
       "      <td>SevenEleven</td>\n",
       "      <td>NaN</td>\n",
       "      <td>False</td>\n",
       "      <td>2017-01-03</td>\n",
       "    </tr>\n",
       "  </tbody>\n",
       "</table>\n",
       "<p>10 rows × 28 columns</p>\n",
       "</div>"
      ],
      "text/plain": [
       "   ﻿SalesOrderSlaveId    DateId                              MemberId  \\\n",
       "0            26914456  20170103  48D5DE26-236E-4854-8474-B0DCEAFF4F42   \n",
       "1            26914457  20170103  48D5DE26-236E-4854-8474-B0DCEAFF4F42   \n",
       "2            26767644  20170101  C8B989DB-05F9-42D3-BD4F-E203482C5E58   \n",
       "3            26780512  20170101  C39E36F7-5091-48DA-BE8F-8CE043E009EE   \n",
       "4            26823950  20170102  7D87099A-B49C-4136-A8E9-F76BB5588B19   \n",
       "5            26881155  20170103  2ED6E54C-A7B0-447F-B3C7-8B0CA4536E54   \n",
       "6            26928963  20170104  6B11D879-C56E-4057-A6A0-45C30732F542   \n",
       "7            26942457  20170104  249FEB46-134C-4DE3-902D-73D289D130DB   \n",
       "8            26945149  20170104  54B80CB7-78BA-49D7-9850-0A61A9B67E03   \n",
       "9            26914458  20170103  48D5DE26-236E-4854-8474-B0DCEAFF4F42   \n",
       "\n",
       "   TradesOrderSlaveId  ShopId  SalePageId  \\\n",
       "0            26971960    1317        9804   \n",
       "1            26971961    1317        9804   \n",
       "2            26825136    1317       10118   \n",
       "3            26837997    1317       10036   \n",
       "4            26881442    1317       10268   \n",
       "5            26938659    1317        9897   \n",
       "6            26986470    1317       10029   \n",
       "7            26999964    1317       10029   \n",
       "8            27002656    1317        8823   \n",
       "9            26971962    1317        9804   \n",
       "\n",
       "                                TradesOrderGroupCode TrackSourceTypeDef  \\\n",
       "0  b'q\\x14\\xa49\\xaa\\\\\\xecs\\xff6wH\\xfbXd\\x93\\xfbf\\...                Web   \n",
       "1  b'q\\x14\\xa49\\xaa\\\\\\xecs\\xff6wH\\xfbXd\\x93\\xfbf\\...                Web   \n",
       "2  b'\\x1d\\x8f}\\x12lu>.&\\xfc\\xbc\\xe0\\xd2\\xad\\xe5\\x...                Web   \n",
       "3  b'&QI#u)\\xf8\\xf7\\n6\\x01~\\xd1\\xf3,\\x1f\\xb8\\xe3\\...                Web   \n",
       "4  b'\\xfd\\x0b\\x9ee\\xdc\\xaea@\\x102;jX\\xfek\\x99m\\x1...                Web   \n",
       "5  b'\\x9a\\xee\\xee\\xb30pf8d\\x0bp\\x8b\\xaa\\xde\\xa8\\x...                Web   \n",
       "6  b'\\x9e\\xc5{\\xe4\\xfd_\\xa9XP\\x19*\\xc4\\x9c\"\\x0b%\\...                Web   \n",
       "7  b'\\xf7\\xca\\xed\\xd5\\xaf{\\xfem\\xa4\\x88\\x16)0\\x88...                Web   \n",
       "8   b'\\t\\x90\\xf9\\xe6sc\\x9d\\xe3%eZ,C$\\x8f{~\\xe6`\\xa8'                Web   \n",
       "9  b'q\\x14\\xa49\\xaa\\\\\\xecs\\xff6wH\\xfbXd\\x93\\xfbf\\...                Web   \n",
       "\n",
       "  TrackChannelTypeDef TrackDeviceTypeDef     ...     PromotionDiscount  \\\n",
       "0               Brand             Mobile     ...                 -25.0   \n",
       "1               Brand             Mobile     ...                 -25.0   \n",
       "2               Brand             Mobile     ...                 -34.0   \n",
       "3               Brand             Mobile     ...                 -57.0   \n",
       "4               Brand             Mobile     ...                 -44.0   \n",
       "5               Brand             Mobile     ...                 -24.0   \n",
       "6               Brand             Mobile     ...                 -26.0   \n",
       "7               Brand             Mobile     ...                 -13.0   \n",
       "8               Brand             Mobile     ...                 -25.0   \n",
       "9               Brand             Mobile     ...                 -25.0   \n",
       "\n",
       "  EcouponDiscount SalesOrderSlaveTotalPayment  SalesOrderSlaveDateTime  \\\n",
       "0             0.0                       374.0  2017-01-03 23:11:47.207   \n",
       "1             0.0                       374.0  2017-01-03 23:11:47.223   \n",
       "2             0.0                       316.0  2017-01-01 17:21:32.113   \n",
       "3             0.0                       483.0  2017-01-01 21:41:58.153   \n",
       "4             0.0                       401.0  2017-01-02 15:37:33.610   \n",
       "5             0.0                       156.0  2017-01-03 12:56:21.980   \n",
       "6             0.0                       223.0  2017-01-04 08:31:00.313   \n",
       "7             0.0                       236.0  2017-01-04 13:58:47.880   \n",
       "8             0.0                       225.0  2017-01-04 14:51:30.517   \n",
       "9             0.0                       374.0  2017-01-03 23:11:47.223   \n",
       "\n",
       "  SalesOrderSlaveStatusDef PayProfileTypeDef  ShippingProfileTypeDef  \\\n",
       "0                   Finish       SevenEleven             SevenEleven   \n",
       "1                   Finish       SevenEleven             SevenEleven   \n",
       "2                   Finish            Family                  Family   \n",
       "3                   Finish            Family                  Family   \n",
       "4                   Finish            Family                  Family   \n",
       "5                   Finish            Family                  Family   \n",
       "6                   Finish            Family                  Family   \n",
       "7                   Finish            Family                  Family   \n",
       "8                   Finish            Family                  Family   \n",
       "9                   Finish       SevenEleven             SevenEleven   \n",
       "\n",
       "   EcouponId  IsSalePageGift  new_DateId  \n",
       "0        NaN           False  2017-01-03  \n",
       "1        NaN           False  2017-01-03  \n",
       "2        NaN           False  2017-01-01  \n",
       "3        NaN           False  2017-01-01  \n",
       "4        NaN           False  2017-01-02  \n",
       "5        NaN           False  2017-01-03  \n",
       "6        NaN           False  2017-01-04  \n",
       "7        NaN           False  2017-01-04  \n",
       "8        NaN           False  2017-01-04  \n",
       "9        NaN           False  2017-01-03  \n",
       "\n",
       "[10 rows x 28 columns]"
      ]
     },
     "execution_count": 15,
     "metadata": {},
     "output_type": "execute_result"
    }
   ],
   "source": [
    "df.head(10)"
   ]
  },
  {
   "cell_type": "code",
   "execution_count": 16,
   "metadata": {
    "collapsed": false
   },
   "outputs": [
    {
     "data": {
      "text/plain": [
       "new_DateId\n",
       "2017-01-01    3823\n",
       "2017-01-02    5105\n",
       "2017-01-03    3623\n",
       "2017-01-04    2889\n",
       "2017-01-05    2843\n",
       "2017-01-06    2391\n",
       "2017-01-07    2641\n",
       "2017-01-08    2335\n",
       "2017-01-09    2119\n",
       "2017-01-10    2470\n",
       "Name: Quantity, dtype: int64"
      ]
     },
     "execution_count": 16,
     "metadata": {},
     "output_type": "execute_result"
    }
   ],
   "source": [
    "data = df.groupby(by='new_DateId')['Quantity'].sum()\n",
    "data.head(10)"
   ]
  },
  {
   "cell_type": "code",
   "execution_count": 17,
   "metadata": {
    "collapsed": false
   },
   "outputs": [
    {
     "data": {
      "text/html": [
       "<div>\n",
       "<table border=\"1\" class=\"dataframe\">\n",
       "  <thead>\n",
       "    <tr style=\"text-align: right;\">\n",
       "      <th></th>\n",
       "      <th>new_DateId</th>\n",
       "      <th>Quantity</th>\n",
       "    </tr>\n",
       "  </thead>\n",
       "  <tbody>\n",
       "    <tr>\n",
       "      <th>0</th>\n",
       "      <td>2017-01-03</td>\n",
       "      <td>1</td>\n",
       "    </tr>\n",
       "    <tr>\n",
       "      <th>1</th>\n",
       "      <td>2017-01-03</td>\n",
       "      <td>1</td>\n",
       "    </tr>\n",
       "    <tr>\n",
       "      <th>2</th>\n",
       "      <td>2017-01-01</td>\n",
       "      <td>1</td>\n",
       "    </tr>\n",
       "    <tr>\n",
       "      <th>3</th>\n",
       "      <td>2017-01-01</td>\n",
       "      <td>1</td>\n",
       "    </tr>\n",
       "    <tr>\n",
       "      <th>4</th>\n",
       "      <td>2017-01-02</td>\n",
       "      <td>1</td>\n",
       "    </tr>\n",
       "    <tr>\n",
       "      <th>5</th>\n",
       "      <td>2017-01-03</td>\n",
       "      <td>1</td>\n",
       "    </tr>\n",
       "  </tbody>\n",
       "</table>\n",
       "</div>"
      ],
      "text/plain": [
       "  new_DateId  Quantity\n",
       "0 2017-01-03         1\n",
       "1 2017-01-03         1\n",
       "2 2017-01-01         1\n",
       "3 2017-01-01         1\n",
       "4 2017-01-02         1\n",
       "5 2017-01-03         1"
      ]
     },
     "execution_count": 17,
     "metadata": {},
     "output_type": "execute_result"
    }
   ],
   "source": [
    "df.loc[0:5, ['new_DateId', 'Quantity']]"
   ]
  },
  {
   "cell_type": "code",
   "execution_count": 18,
   "metadata": {
    "collapsed": false
   },
   "outputs": [
    {
     "data": {
      "text/plain": [
       "<matplotlib.axes._subplots.AxesSubplot at 0x18c97061390>"
      ]
     },
     "execution_count": 18,
     "metadata": {},
     "output_type": "execute_result"
    },
    {
     "data": {
      "image/png": "[encoded data removed]",
      "text/plain": [
       "<matplotlib.figure.Figure at 0x18c84928e80>"
      ]
     },
     "metadata": {},
     "output_type": "display_data"
    }
   ],
   "source": [
    "%matplotlib inline\n",
    "data.plot()  # 會默認第一個變數是 X 軸，第二個變數是 Y 軸。"
   ]
  },
  {
   "cell_type": "code",
   "execution_count": 23,
   "metadata": {
    "collapsed": false
   },
   "outputs": [
    {
     "data": {
      "text/plain": [
       "<matplotlib.axes._subplots.AxesSubplot at 0x18c862edbe0>"
      ]
     },
     "execution_count": 23,
     "metadata": {},
     "output_type": "execute_result"
    },
    {
     "data": {
      "image/png": "[encoded data removed]",
      "text/plain": [
       "<matplotlib.figure.Figure at 0x18c862ed0b8>"
      ]
     },
     "metadata": {},
     "output_type": "display_data"
    }
   ],
   "source": [
    "Member_data = df.groupby(by='MemberId')['Quantity'].sum()\n",
    "#Member_data.head(10)\n",
    "Member_data.plot()\n",
    "\n",
    "#Member_data.shape()"
   ]
  },
  {
   "cell_type": "code",
   "execution_count": null,
   "metadata": {
    "collapsed": true
   },
   "outputs": [],
   "source": []
  }
 ],
 "metadata": {
  "anaconda-cloud": {},
  "kernelspec": {
   "display_name": "Python [default]",
   "language": "python",
   "name": "python3"
  },
  "language_info": {
   "codemirror_mode": {
    "name": "ipython",
    "version": 3
   },
   "file_extension": ".py",
   "mimetype": "text/x-python",
   "name": "python",
   "nbconvert_exporter": "python",
   "pygments_lexer": "ipython3",
   "version": "3.5.2"
  }
 },
 "nbformat": 4,
 "nbformat_minor": 1
}
