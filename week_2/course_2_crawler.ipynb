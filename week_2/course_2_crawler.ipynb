{
 "cells": [
  {
   "cell_type": "markdown",
   "metadata": {},
   "source": [
    "## 爬取yahoo購物電暖器商品"
   ]
  },
  {
   "cell_type": "code",
   "execution_count": 3,
   "metadata": {
    "collapsed": true
   },
   "outputs": [],
   "source": [
    "import requests\n",
    "import json\n",
    "import pandas as pd"
   ]
  },
  {
   "cell_type": "code",
   "execution_count": 16,
   "metadata": {
    "collapsed": false
   },
   "outputs": [],
   "source": [
    "import requests\n",
    "from bs4 import BeautifulSoup\n",
    "\n",
    "response = requests.get(\"https://tw.search.buy.yahoo.com/search/shopping/product?p=%E9%9B%BB%E6%9A%96%E5%99%A8&qt=product&cid=5&clv=1&cid_path=\")\n",
    "soup = BeautifulSoup(response.text, 'lxml')\n"
   ]
  },
  {
   "cell_type": "code",
   "execution_count": 17,
   "metadata": {
    "collapsed": false
   },
   "outputs": [
    {
     "data": {
      "text/plain": [
       "['優佳麗14吋碳素電暖器HY-614',\n",
       " '尚朋堂即熱式電暖器SH-3330',\n",
       " '日象遠紅外線電暖器 ZOG-880',\n",
       " 'AIRMATE 艾美特 HC81243 對流式電暖器(腳踏)',\n",
       " '尚朋堂陶瓷電暖器SH-8881',\n",
       " '尚朋堂微電腦對流式電暖器SH-1362HM',\n",
       " '義大利DELONGHI迪朗奇熱對流暖風電暖器(送風/12片) KR791215V',\n",
       " '福利品 迪朗奇7葉片省電型電暖器KR790915V',\n",
       " '日象微電腦負離子電暖器 ZOG-818',\n",
       " '熹麗歐斯紅外線電暖器HL-1000',\n",
       " '義大利迪朗奇快速加熱7葉片電暖器(KH770715)',\n",
       " '日本松木MATRIC-智能感知陶瓷電暖器MG-CH0804P',\n",
       " 'Lasko 美國 ApisHeat小小蜂 陶瓷電暖器 5919TW',\n",
       " 'AIRMATE 艾美特 HC13050R 迪士尼米奇系列 即熱式遙控電暖器',\n",
       " 'HANABISHI 可擺頭PTC陶瓷電暖器(HHF-12Q)',\n",
       " '尚朋堂數位恆溫陶瓷電暖器SH-8862',\n",
       " '柏森牌 壁掛式防潑水電暖器 PH-788',\n",
       " 'DELONGHI迪朗奇熱對流暖風電暖器(送風/12片) KR791215V',\n",
       " 'JJPRO家佳寶 壁爐式電暖器 JPH01',\n",
       " '義大利DeLonghi迪朗奇VENTO系列九片式極速熱對流定時電暖器 V550915T',\n",
       " '義大利DeLonghi迪朗奇VENTO系列九片式極速熱對流定時電暖器 V550915T',\n",
       " 'AIRMATE 艾美特 HC13020UR 對流式即熱加濕電暖器',\n",
       " 'KRIA可利亞 蓄熱式雙向插手電暖袋/熱敷袋/電暖器 ZW-100TY',\n",
       " 'KRIA可利亞 PTC陶瓷恆溫暖氣機/電暖器 KR-1516',\n",
       " 'KRIA可利亞 PTC陶瓷恆溫暖氣機/電暖器KR-902T 超值二入組',\n",
       " 'MAYLINK美菱 360°環型陶瓷溫控暖氣機/電暖器(KR-903T)',\n",
       " 'MAYLINK美菱 超導體三溫暖氣機/電暖器 草莓+藍莓馬卡龍(雙色超值2入組)',\n",
       " 'KRIA可利亞 PTC陶瓷恆溫暖氣機/電暖器 KR-904T',\n",
       " '快譯通Abee快暖型迷你陶瓷電暖器(2色選擇) PTC-MINI',\n",
       " 'KRIA可利亞 PTC陶瓷恆溫暖氣機/電暖器 KR-1516(贈送蓄熱式電暖袋)',\n",
       " 'KRIA可利亞 PTC陶瓷恆溫暖氣機/電暖器 KR-902T',\n",
       " 'JJPRO家佳寶 壁爐式電暖器 JPH01',\n",
       " 'Abee快譯通9片波浪型油葉恆溫電暖器 POL-0901',\n",
       " 'MAYLINK美菱 超導體三溫暖氣機/電暖器ZW-106FH-P 草莓馬卡龍(超值2入組)',\n",
       " 'MAYLINK美菱 超導體三溫暖氣機/電暖器ZW-106FH-P(草莓馬卡龍)',\n",
       " 'KRIA可利亞 PTC陶瓷恆溫暖氣機+陶瓷電暖器+蓄熱式雙向插手電暖袋 暖心2入組',\n",
       " '福利品 迪朗奇9片式極速熱對流定時電暖器V550915T',\n",
       " 'MAYLINK美菱 超導體三溫暖氣機/電暖器ZW-106FH-B(藍莓馬卡龍)',\n",
       " 'MAYLINK美菱 超導體三溫暖氣機/電暖器ZW-106FH-B 藍莓馬卡龍(超值2入組)',\n",
       " '挪威 mill 葉片式電暖器 AB-H1500DN(限量福利品)',\n",
       " '挪威 mill 葉片式電暖器 AB-H1000DN(限量福利品)',\n",
       " '挪威 mill 對流式電暖器 SG1500LED(限量福利品)',\n",
       " '挪威 mill 葉片式電暖器 AB-H700MINI(限量福利品)',\n",
       " 'KRIA可利亞 蓄熱式雙向插手電暖袋/熱敷袋/電暖器 ZW-003AD',\n",
       " 'KRIA可利亞 蓄熱式雙向插手電暖袋/熱敷袋/電暖器 ZW-100TY(買一送一)',\n",
       " 'KRIA可利亞 蓄熱式雙向插手電暖袋/熱敷袋/電暖器 ZW-300TY',\n",
       " 'KRIA可利亞 蓄熱式雙向插手電暖袋/熱敷袋/電暖器 (鴨+象買一送一)',\n",
       " 'KRIA可利亞 蓄熱式雙向插手電暖袋/熱敷袋/電暖器 ZW-300TY(買一送一)',\n",
       " 'KRIA可利亞 蓄熱式雙向插手電暖袋/熱敷袋/電暖器 (豬+蛙買一送一)',\n",
       " 'WEPON 超導熱低電磁波冷暖省電風扇(TH-102)']"
      ]
     },
     "execution_count": 17,
     "metadata": {},
     "output_type": "execute_result"
    }
   ],
   "source": [
    "#soup.find(\"title\").text\n",
    "\n",
    "product_name = [tag.text for tag in soup.find_all(\"a\", {\"data-slk\":\"title\"})]\n",
    "product_name_list =  \" \".join(comp_tel)\n",
    "product_name"
   ]
  },
  {
   "cell_type": "code",
   "execution_count": null,
   "metadata": {
    "collapsed": false
   },
   "outputs": [],
   "source": []
  },
  {
   "cell_type": "code",
   "execution_count": null,
   "metadata": {
    "collapsed": false
   },
   "outputs": [],
   "source": []
  },
  {
   "cell_type": "code",
   "execution_count": null,
   "metadata": {
    "collapsed": false
   },
   "outputs": [],
   "source": []
  },
  {
   "cell_type": "code",
   "execution_count": null,
   "metadata": {
    "collapsed": true
   },
   "outputs": [],
   "source": [
    "\n"
   ]
  },
  {
   "cell_type": "code",
   "execution_count": null,
   "metadata": {
    "collapsed": false
   },
   "outputs": [],
   "source": []
  },
  {
   "cell_type": "code",
   "execution_count": null,
   "metadata": {
    "collapsed": true
   },
   "outputs": [],
   "source": []
  }
 ],
 "metadata": {
  "anaconda-cloud": {},
  "celltoolbar": "Edit Metadata",
  "kernelspec": {
   "display_name": "Python [default]",
   "language": "python",
   "name": "python3"
  },
  "language_info": {
   "codemirror_mode": {
    "name": "ipython",
    "version": 3
   },
   "file_extension": ".py",
   "mimetype": "text/x-python",
   "name": "python",
   "nbconvert_exporter": "python",
   "pygments_lexer": "ipython3",
   "version": "3.5.2"
  }
 },
 "nbformat": 4,
 "nbformat_minor": 1
}
