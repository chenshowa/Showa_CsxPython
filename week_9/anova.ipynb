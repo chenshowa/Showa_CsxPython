{
 "cells": [
  {
   "cell_type": "code",
   "execution_count": 24,
   "metadata": {},
   "outputs": [],
   "source": [
    "%matplotlib inline\n",
    "import pandas as pd\n",
    "import numpy as np\n",
    "import seaborn as sns\n",
    "import matplotlib.pyplot as plt\n",
    "import matplotlib"
   ]
  },
  {
   "cell_type": "code",
   "execution_count": 2,
   "metadata": {},
   "outputs": [],
   "source": [
    "air_data  = pd.read_csv(\"AQXDaily_20170409211519.csv\")"
   ]
  },
  {
   "cell_type": "markdown",
   "metadata": {},
   "source": [
    "目標 : 使用下列方法觀察資料  \n",
    "\n",
    "* t-test   \n",
    "* anova\n",
    "\n"
   ]
  },
  {
   "cell_type": "markdown",
   "metadata": {},
   "source": [
    "PSI (污染物標準指標) 為當日(SO2   CO   O3   PM10)中最大值作為PSI"
   ]
  },
  {
   "cell_type": "code",
   "execution_count": 35,
   "metadata": {},
   "outputs": [
    {
     "data": {
      "text/plain": [
       "Index(['SiteId', 'SiteName', 'MonitorDate', 'PSI', 'SO2SubIndex', 'COSubIndex',\n",
       "       'O3SubIndex', 'PM10SubIndex', 'NO2SubIndex'],\n",
       "      dtype='object')"
      ]
     },
     "execution_count": 35,
     "metadata": {},
     "output_type": "execute_result"
    }
   ],
   "source": [
    "air_data.columns"
   ]
  },
  {
   "cell_type": "code",
   "execution_count": 3,
   "metadata": {},
   "outputs": [
    {
     "data": {
      "text/plain": [
       "(1000, 9)"
      ]
     },
     "execution_count": 3,
     "metadata": {},
     "output_type": "execute_result"
    }
   ],
   "source": [
    "air_data .shape"
   ]
  },
  {
   "cell_type": "code",
   "execution_count": 4,
   "metadata": {},
   "outputs": [
    {
     "data": {
      "text/plain": [
       "(12, 9)"
      ]
     },
     "execution_count": 4,
     "metadata": {},
     "output_type": "execute_result"
    }
   ],
   "source": [
    "air_data[air_data['PM10SubIndex'].isnull()].shape    #PM10SubIndex 的notnull"
   ]
  },
  {
   "cell_type": "code",
   "execution_count": 5,
   "metadata": {},
   "outputs": [
    {
     "data": {
      "text/plain": [
       "(9, 9)"
      ]
     },
     "execution_count": 5,
     "metadata": {},
     "output_type": "execute_result"
    }
   ],
   "source": [
    "air_data[air_data['SO2SubIndex'].isnull()].shape     #SO2SubIndex 的notnull"
   ]
  },
  {
   "cell_type": "code",
   "execution_count": 6,
   "metadata": {},
   "outputs": [
    {
     "data": {
      "text/plain": [
       "(80, 9)"
      ]
     },
     "execution_count": 6,
     "metadata": {},
     "output_type": "execute_result"
    }
   ],
   "source": [
    "air_data[air_data['COSubIndex'].isnull()].shape      #COSubIndex 的notnull"
   ]
  },
  {
   "cell_type": "code",
   "execution_count": 7,
   "metadata": {},
   "outputs": [
    {
     "data": {
      "text/plain": [
       "(148, 9)"
      ]
     },
     "execution_count": 7,
     "metadata": {},
     "output_type": "execute_result"
    }
   ],
   "source": [
    "air_data[air_data['O3SubIndex'].isnull()].shape"
   ]
  },
  {
   "cell_type": "code",
   "execution_count": 8,
   "metadata": {},
   "outputs": [
    {
     "data": {
      "text/plain": [
       "array(['2017-04-08', '2017-04-07', '2017-04-06', '2017-04-05',\n",
       "       '2017-04-04', '2017-04-03', '2017-04-02', '2017-04-01',\n",
       "       '2017-03-31', '2017-03-30', '2017-03-29', '2017-03-28',\n",
       "       '2017-03-27', '2017-03-26'], dtype=object)"
      ]
     },
     "execution_count": 8,
     "metadata": {},
     "output_type": "execute_result"
    }
   ],
   "source": [
    "air_data.MonitorDate.unique()"
   ]
  },
  {
   "cell_type": "code",
   "execution_count": 10,
   "metadata": {
    "scrolled": true
   },
   "outputs": [
    {
     "data": {
      "text/plain": [
       "array(['麥寮', '關山', '馬公', '金門', '馬祖', '埔里', '復興', '永和', '竹山', '中壢', '三重',\n",
       "       '冬山', '宜蘭', '陽明', '花蓮', '臺東', '恆春', '潮州', '屏東', '小港', '前鎮', '前金',\n",
       "       '左營', '楠梓', '林園', '大寮', '鳳山', '仁武', '橋頭', '美濃', '臺南', '安南', '善化',\n",
       "       '新營', '嘉義', '臺西', '朴子', '新港', '崙背', '斗六', '南投', '二林', '線西', '彰化',\n",
       "       '西屯', '忠明', '大里', '沙鹿', '豐原', '三義', '苗栗', '頭份', '新竹', '竹東', '湖口',\n",
       "       '龍潭', '平鎮', '觀音', '大園', '桃園', '大同', '松山', '古亭', '萬華', '中山', '士林',\n",
       "       '淡水', '林口', '菜寮', '新莊', '板橋', '土城', '新店', '萬里', '汐止', '基隆'], dtype=object)"
      ]
     },
     "execution_count": 10,
     "metadata": {},
     "output_type": "execute_result"
    }
   ],
   "source": [
    "air_data.SiteName.unique()"
   ]
  },
  {
   "cell_type": "markdown",
   "metadata": {},
   "source": [
    "## 此空氣資料中，共有12天,  及76個地點"
   ]
  },
  {
   "cell_type": "code",
   "execution_count": 9,
   "metadata": {
    "scrolled": true
   },
   "outputs": [
    {
     "data": {
      "text/html": [
       "<div>\n",
       "<style>\n",
       "    .dataframe thead tr:only-child th {\n",
       "        text-align: right;\n",
       "    }\n",
       "\n",
       "    .dataframe thead th {\n",
       "        text-align: left;\n",
       "    }\n",
       "\n",
       "    .dataframe tbody tr th {\n",
       "        vertical-align: top;\n",
       "    }\n",
       "</style>\n",
       "<table border=\"1\" class=\"dataframe\">\n",
       "  <thead>\n",
       "    <tr style=\"text-align: right;\">\n",
       "      <th></th>\n",
       "      <th>SiteId</th>\n",
       "      <th>SiteName</th>\n",
       "      <th>MonitorDate</th>\n",
       "      <th>PSI</th>\n",
       "      <th>SO2SubIndex</th>\n",
       "      <th>COSubIndex</th>\n",
       "      <th>O3SubIndex</th>\n",
       "      <th>PM10SubIndex</th>\n",
       "      <th>NO2SubIndex</th>\n",
       "    </tr>\n",
       "  </thead>\n",
       "  <tbody>\n",
       "    <tr>\n",
       "      <th>0</th>\n",
       "      <td>83</td>\n",
       "      <td>麥寮</td>\n",
       "      <td>2017-04-08</td>\n",
       "      <td>52</td>\n",
       "      <td>4.0</td>\n",
       "      <td>NaN</td>\n",
       "      <td>NaN</td>\n",
       "      <td>52.0</td>\n",
       "      <td>NaN</td>\n",
       "    </tr>\n",
       "    <tr>\n",
       "      <th>1</th>\n",
       "      <td>80</td>\n",
       "      <td>關山</td>\n",
       "      <td>2017-04-08</td>\n",
       "      <td>25</td>\n",
       "      <td>2.0</td>\n",
       "      <td>NaN</td>\n",
       "      <td>25.0</td>\n",
       "      <td>23.0</td>\n",
       "      <td>NaN</td>\n",
       "    </tr>\n",
       "    <tr>\n",
       "      <th>2</th>\n",
       "      <td>78</td>\n",
       "      <td>馬公</td>\n",
       "      <td>2017-04-08</td>\n",
       "      <td>27</td>\n",
       "      <td>1.0</td>\n",
       "      <td>2.0</td>\n",
       "      <td>24.0</td>\n",
       "      <td>27.0</td>\n",
       "      <td>NaN</td>\n",
       "    </tr>\n",
       "    <tr>\n",
       "      <th>3</th>\n",
       "      <td>77</td>\n",
       "      <td>金門</td>\n",
       "      <td>2017-04-08</td>\n",
       "      <td>24</td>\n",
       "      <td>3.0</td>\n",
       "      <td>2.0</td>\n",
       "      <td>24.0</td>\n",
       "      <td>23.0</td>\n",
       "      <td>NaN</td>\n",
       "    </tr>\n",
       "    <tr>\n",
       "      <th>4</th>\n",
       "      <td>75</td>\n",
       "      <td>馬祖</td>\n",
       "      <td>2017-04-08</td>\n",
       "      <td>39</td>\n",
       "      <td>5.0</td>\n",
       "      <td>5.0</td>\n",
       "      <td>37.0</td>\n",
       "      <td>39.0</td>\n",
       "      <td>NaN</td>\n",
       "    </tr>\n",
       "    <tr>\n",
       "      <th>5</th>\n",
       "      <td>72</td>\n",
       "      <td>埔里</td>\n",
       "      <td>2017-04-08</td>\n",
       "      <td>61</td>\n",
       "      <td>2.0</td>\n",
       "      <td>3.0</td>\n",
       "      <td>61.0</td>\n",
       "      <td>45.0</td>\n",
       "      <td>NaN</td>\n",
       "    </tr>\n",
       "    <tr>\n",
       "      <th>6</th>\n",
       "      <td>71</td>\n",
       "      <td>復興</td>\n",
       "      <td>2017-04-08</td>\n",
       "      <td>37</td>\n",
       "      <td>14.0</td>\n",
       "      <td>8.0</td>\n",
       "      <td>NaN</td>\n",
       "      <td>37.0</td>\n",
       "      <td>NaN</td>\n",
       "    </tr>\n",
       "    <tr>\n",
       "      <th>7</th>\n",
       "      <td>70</td>\n",
       "      <td>永和</td>\n",
       "      <td>2017-04-08</td>\n",
       "      <td>55</td>\n",
       "      <td>4.0</td>\n",
       "      <td>18.0</td>\n",
       "      <td>NaN</td>\n",
       "      <td>55.0</td>\n",
       "      <td>NaN</td>\n",
       "    </tr>\n",
       "    <tr>\n",
       "      <th>8</th>\n",
       "      <td>69</td>\n",
       "      <td>竹山</td>\n",
       "      <td>2017-04-08</td>\n",
       "      <td>62</td>\n",
       "      <td>4.0</td>\n",
       "      <td>3.0</td>\n",
       "      <td>62.0</td>\n",
       "      <td>52.0</td>\n",
       "      <td>NaN</td>\n",
       "    </tr>\n",
       "    <tr>\n",
       "      <th>9</th>\n",
       "      <td>68</td>\n",
       "      <td>中壢</td>\n",
       "      <td>2017-04-08</td>\n",
       "      <td>58</td>\n",
       "      <td>6.0</td>\n",
       "      <td>17.0</td>\n",
       "      <td>NaN</td>\n",
       "      <td>58.0</td>\n",
       "      <td>NaN</td>\n",
       "    </tr>\n",
       "    <tr>\n",
       "      <th>10</th>\n",
       "      <td>67</td>\n",
       "      <td>三重</td>\n",
       "      <td>2017-04-08</td>\n",
       "      <td>61</td>\n",
       "      <td>6.0</td>\n",
       "      <td>16.0</td>\n",
       "      <td>NaN</td>\n",
       "      <td>61.0</td>\n",
       "      <td>NaN</td>\n",
       "    </tr>\n",
       "    <tr>\n",
       "      <th>11</th>\n",
       "      <td>66</td>\n",
       "      <td>冬山</td>\n",
       "      <td>2017-04-08</td>\n",
       "      <td>50</td>\n",
       "      <td>4.0</td>\n",
       "      <td>6.0</td>\n",
       "      <td>37.0</td>\n",
       "      <td>50.0</td>\n",
       "      <td>NaN</td>\n",
       "    </tr>\n",
       "    <tr>\n",
       "      <th>12</th>\n",
       "      <td>65</td>\n",
       "      <td>宜蘭</td>\n",
       "      <td>2017-04-08</td>\n",
       "      <td>44</td>\n",
       "      <td>2.0</td>\n",
       "      <td>4.0</td>\n",
       "      <td>42.0</td>\n",
       "      <td>44.0</td>\n",
       "      <td>NaN</td>\n",
       "    </tr>\n",
       "    <tr>\n",
       "      <th>13</th>\n",
       "      <td>64</td>\n",
       "      <td>陽明</td>\n",
       "      <td>2017-04-08</td>\n",
       "      <td>68</td>\n",
       "      <td>5.0</td>\n",
       "      <td>4.0</td>\n",
       "      <td>68.0</td>\n",
       "      <td>32.0</td>\n",
       "      <td>NaN</td>\n",
       "    </tr>\n",
       "    <tr>\n",
       "      <th>14</th>\n",
       "      <td>63</td>\n",
       "      <td>花蓮</td>\n",
       "      <td>2017-04-08</td>\n",
       "      <td>30</td>\n",
       "      <td>2.0</td>\n",
       "      <td>3.0</td>\n",
       "      <td>28.0</td>\n",
       "      <td>30.0</td>\n",
       "      <td>NaN</td>\n",
       "    </tr>\n",
       "    <tr>\n",
       "      <th>15</th>\n",
       "      <td>62</td>\n",
       "      <td>臺東</td>\n",
       "      <td>2017-04-08</td>\n",
       "      <td>31</td>\n",
       "      <td>2.0</td>\n",
       "      <td>5.0</td>\n",
       "      <td>18.0</td>\n",
       "      <td>31.0</td>\n",
       "      <td>NaN</td>\n",
       "    </tr>\n",
       "    <tr>\n",
       "      <th>16</th>\n",
       "      <td>61</td>\n",
       "      <td>恆春</td>\n",
       "      <td>2017-04-08</td>\n",
       "      <td>32</td>\n",
       "      <td>2.0</td>\n",
       "      <td>1.0</td>\n",
       "      <td>28.0</td>\n",
       "      <td>32.0</td>\n",
       "      <td>NaN</td>\n",
       "    </tr>\n",
       "    <tr>\n",
       "      <th>17</th>\n",
       "      <td>60</td>\n",
       "      <td>潮州</td>\n",
       "      <td>2017-04-08</td>\n",
       "      <td>49</td>\n",
       "      <td>3.0</td>\n",
       "      <td>3.0</td>\n",
       "      <td>49.0</td>\n",
       "      <td>40.0</td>\n",
       "      <td>NaN</td>\n",
       "    </tr>\n",
       "    <tr>\n",
       "      <th>18</th>\n",
       "      <td>59</td>\n",
       "      <td>屏東</td>\n",
       "      <td>2017-04-08</td>\n",
       "      <td>48</td>\n",
       "      <td>4.0</td>\n",
       "      <td>4.0</td>\n",
       "      <td>48.0</td>\n",
       "      <td>41.0</td>\n",
       "      <td>NaN</td>\n",
       "    </tr>\n",
       "    <tr>\n",
       "      <th>19</th>\n",
       "      <td>58</td>\n",
       "      <td>小港</td>\n",
       "      <td>2017-04-08</td>\n",
       "      <td>47</td>\n",
       "      <td>14.0</td>\n",
       "      <td>5.0</td>\n",
       "      <td>47.0</td>\n",
       "      <td>41.0</td>\n",
       "      <td>NaN</td>\n",
       "    </tr>\n",
       "    <tr>\n",
       "      <th>20</th>\n",
       "      <td>57</td>\n",
       "      <td>前鎮</td>\n",
       "      <td>2017-04-08</td>\n",
       "      <td>40</td>\n",
       "      <td>14.0</td>\n",
       "      <td>NaN</td>\n",
       "      <td>NaN</td>\n",
       "      <td>40.0</td>\n",
       "      <td>NaN</td>\n",
       "    </tr>\n",
       "    <tr>\n",
       "      <th>21</th>\n",
       "      <td>56</td>\n",
       "      <td>前金</td>\n",
       "      <td>2017-04-08</td>\n",
       "      <td>48</td>\n",
       "      <td>11.0</td>\n",
       "      <td>4.0</td>\n",
       "      <td>45.0</td>\n",
       "      <td>48.0</td>\n",
       "      <td>NaN</td>\n",
       "    </tr>\n",
       "    <tr>\n",
       "      <th>22</th>\n",
       "      <td>54</td>\n",
       "      <td>左營</td>\n",
       "      <td>2017-04-08</td>\n",
       "      <td>58</td>\n",
       "      <td>7.0</td>\n",
       "      <td>4.0</td>\n",
       "      <td>58.0</td>\n",
       "      <td>51.0</td>\n",
       "      <td>NaN</td>\n",
       "    </tr>\n",
       "    <tr>\n",
       "      <th>23</th>\n",
       "      <td>53</td>\n",
       "      <td>楠梓</td>\n",
       "      <td>2017-04-08</td>\n",
       "      <td>63</td>\n",
       "      <td>7.0</td>\n",
       "      <td>5.0</td>\n",
       "      <td>63.0</td>\n",
       "      <td>56.0</td>\n",
       "      <td>NaN</td>\n",
       "    </tr>\n",
       "    <tr>\n",
       "      <th>24</th>\n",
       "      <td>52</td>\n",
       "      <td>林園</td>\n",
       "      <td>2017-04-08</td>\n",
       "      <td>66</td>\n",
       "      <td>5.0</td>\n",
       "      <td>4.0</td>\n",
       "      <td>66.0</td>\n",
       "      <td>28.0</td>\n",
       "      <td>NaN</td>\n",
       "    </tr>\n",
       "    <tr>\n",
       "      <th>25</th>\n",
       "      <td>51</td>\n",
       "      <td>大寮</td>\n",
       "      <td>2017-04-08</td>\n",
       "      <td>47</td>\n",
       "      <td>6.0</td>\n",
       "      <td>4.0</td>\n",
       "      <td>42.0</td>\n",
       "      <td>47.0</td>\n",
       "      <td>NaN</td>\n",
       "    </tr>\n",
       "    <tr>\n",
       "      <th>26</th>\n",
       "      <td>50</td>\n",
       "      <td>鳳山</td>\n",
       "      <td>2017-04-08</td>\n",
       "      <td>52</td>\n",
       "      <td>10.0</td>\n",
       "      <td>9.0</td>\n",
       "      <td>NaN</td>\n",
       "      <td>52.0</td>\n",
       "      <td>NaN</td>\n",
       "    </tr>\n",
       "    <tr>\n",
       "      <th>27</th>\n",
       "      <td>49</td>\n",
       "      <td>仁武</td>\n",
       "      <td>2017-04-08</td>\n",
       "      <td>64</td>\n",
       "      <td>9.0</td>\n",
       "      <td>6.0</td>\n",
       "      <td>64.0</td>\n",
       "      <td>50.0</td>\n",
       "      <td>NaN</td>\n",
       "    </tr>\n",
       "    <tr>\n",
       "      <th>28</th>\n",
       "      <td>48</td>\n",
       "      <td>橋頭</td>\n",
       "      <td>2017-04-08</td>\n",
       "      <td>45</td>\n",
       "      <td>4.0</td>\n",
       "      <td>4.0</td>\n",
       "      <td>45.0</td>\n",
       "      <td>40.0</td>\n",
       "      <td>NaN</td>\n",
       "    </tr>\n",
       "    <tr>\n",
       "      <th>29</th>\n",
       "      <td>47</td>\n",
       "      <td>美濃</td>\n",
       "      <td>2017-04-08</td>\n",
       "      <td>78</td>\n",
       "      <td>3.0</td>\n",
       "      <td>3.0</td>\n",
       "      <td>78.0</td>\n",
       "      <td>36.0</td>\n",
       "      <td>NaN</td>\n",
       "    </tr>\n",
       "    <tr>\n",
       "      <th>...</th>\n",
       "      <td>...</td>\n",
       "      <td>...</td>\n",
       "      <td>...</td>\n",
       "      <td>...</td>\n",
       "      <td>...</td>\n",
       "      <td>...</td>\n",
       "      <td>...</td>\n",
       "      <td>...</td>\n",
       "      <td>...</td>\n",
       "    </tr>\n",
       "    <tr>\n",
       "      <th>970</th>\n",
       "      <td>18</td>\n",
       "      <td>大園</td>\n",
       "      <td>2017-03-27</td>\n",
       "      <td>67</td>\n",
       "      <td>5.0</td>\n",
       "      <td>5.0</td>\n",
       "      <td>65.0</td>\n",
       "      <td>67.0</td>\n",
       "      <td>NaN</td>\n",
       "    </tr>\n",
       "    <tr>\n",
       "      <th>971</th>\n",
       "      <td>17</td>\n",
       "      <td>桃園</td>\n",
       "      <td>2017-03-27</td>\n",
       "      <td>61</td>\n",
       "      <td>5.0</td>\n",
       "      <td>6.0</td>\n",
       "      <td>56.0</td>\n",
       "      <td>61.0</td>\n",
       "      <td>NaN</td>\n",
       "    </tr>\n",
       "    <tr>\n",
       "      <th>972</th>\n",
       "      <td>16</td>\n",
       "      <td>大同</td>\n",
       "      <td>2017-03-27</td>\n",
       "      <td>74</td>\n",
       "      <td>6.0</td>\n",
       "      <td>10.0</td>\n",
       "      <td>NaN</td>\n",
       "      <td>74.0</td>\n",
       "      <td>NaN</td>\n",
       "    </tr>\n",
       "    <tr>\n",
       "      <th>973</th>\n",
       "      <td>15</td>\n",
       "      <td>松山</td>\n",
       "      <td>2017-03-27</td>\n",
       "      <td>59</td>\n",
       "      <td>3.0</td>\n",
       "      <td>7.0</td>\n",
       "      <td>59.0</td>\n",
       "      <td>58.0</td>\n",
       "      <td>NaN</td>\n",
       "    </tr>\n",
       "    <tr>\n",
       "      <th>974</th>\n",
       "      <td>14</td>\n",
       "      <td>古亭</td>\n",
       "      <td>2017-03-27</td>\n",
       "      <td>59</td>\n",
       "      <td>4.0</td>\n",
       "      <td>6.0</td>\n",
       "      <td>59.0</td>\n",
       "      <td>58.0</td>\n",
       "      <td>NaN</td>\n",
       "    </tr>\n",
       "    <tr>\n",
       "      <th>975</th>\n",
       "      <td>13</td>\n",
       "      <td>萬華</td>\n",
       "      <td>2017-03-27</td>\n",
       "      <td>61</td>\n",
       "      <td>5.0</td>\n",
       "      <td>7.0</td>\n",
       "      <td>50.0</td>\n",
       "      <td>61.0</td>\n",
       "      <td>NaN</td>\n",
       "    </tr>\n",
       "    <tr>\n",
       "      <th>976</th>\n",
       "      <td>12</td>\n",
       "      <td>中山</td>\n",
       "      <td>2017-03-27</td>\n",
       "      <td>63</td>\n",
       "      <td>5.0</td>\n",
       "      <td>8.0</td>\n",
       "      <td>48.0</td>\n",
       "      <td>63.0</td>\n",
       "      <td>NaN</td>\n",
       "    </tr>\n",
       "    <tr>\n",
       "      <th>977</th>\n",
       "      <td>11</td>\n",
       "      <td>士林</td>\n",
       "      <td>2017-03-27</td>\n",
       "      <td>60</td>\n",
       "      <td>6.0</td>\n",
       "      <td>4.0</td>\n",
       "      <td>59.0</td>\n",
       "      <td>60.0</td>\n",
       "      <td>NaN</td>\n",
       "    </tr>\n",
       "    <tr>\n",
       "      <th>978</th>\n",
       "      <td>10</td>\n",
       "      <td>淡水</td>\n",
       "      <td>2017-03-27</td>\n",
       "      <td>62</td>\n",
       "      <td>6.0</td>\n",
       "      <td>4.0</td>\n",
       "      <td>62.0</td>\n",
       "      <td>59.0</td>\n",
       "      <td>NaN</td>\n",
       "    </tr>\n",
       "    <tr>\n",
       "      <th>979</th>\n",
       "      <td>9</td>\n",
       "      <td>林口</td>\n",
       "      <td>2017-03-27</td>\n",
       "      <td>66</td>\n",
       "      <td>4.0</td>\n",
       "      <td>4.0</td>\n",
       "      <td>58.0</td>\n",
       "      <td>66.0</td>\n",
       "      <td>NaN</td>\n",
       "    </tr>\n",
       "    <tr>\n",
       "      <th>980</th>\n",
       "      <td>8</td>\n",
       "      <td>菜寮</td>\n",
       "      <td>2017-03-27</td>\n",
       "      <td>62</td>\n",
       "      <td>5.0</td>\n",
       "      <td>6.0</td>\n",
       "      <td>58.0</td>\n",
       "      <td>62.0</td>\n",
       "      <td>NaN</td>\n",
       "    </tr>\n",
       "    <tr>\n",
       "      <th>981</th>\n",
       "      <td>7</td>\n",
       "      <td>新莊</td>\n",
       "      <td>2017-03-27</td>\n",
       "      <td>62</td>\n",
       "      <td>4.0</td>\n",
       "      <td>8.0</td>\n",
       "      <td>59.0</td>\n",
       "      <td>62.0</td>\n",
       "      <td>NaN</td>\n",
       "    </tr>\n",
       "    <tr>\n",
       "      <th>982</th>\n",
       "      <td>6</td>\n",
       "      <td>板橋</td>\n",
       "      <td>2017-03-27</td>\n",
       "      <td>61</td>\n",
       "      <td>5.0</td>\n",
       "      <td>7.0</td>\n",
       "      <td>56.0</td>\n",
       "      <td>61.0</td>\n",
       "      <td>NaN</td>\n",
       "    </tr>\n",
       "    <tr>\n",
       "      <th>983</th>\n",
       "      <td>5</td>\n",
       "      <td>土城</td>\n",
       "      <td>2017-03-27</td>\n",
       "      <td>59</td>\n",
       "      <td>3.0</td>\n",
       "      <td>6.0</td>\n",
       "      <td>59.0</td>\n",
       "      <td>56.0</td>\n",
       "      <td>NaN</td>\n",
       "    </tr>\n",
       "    <tr>\n",
       "      <th>984</th>\n",
       "      <td>4</td>\n",
       "      <td>新店</td>\n",
       "      <td>2017-03-27</td>\n",
       "      <td>61</td>\n",
       "      <td>4.0</td>\n",
       "      <td>5.0</td>\n",
       "      <td>61.0</td>\n",
       "      <td>58.0</td>\n",
       "      <td>NaN</td>\n",
       "    </tr>\n",
       "    <tr>\n",
       "      <th>985</th>\n",
       "      <td>3</td>\n",
       "      <td>萬里</td>\n",
       "      <td>2017-03-27</td>\n",
       "      <td>72</td>\n",
       "      <td>4.0</td>\n",
       "      <td>4.0</td>\n",
       "      <td>72.0</td>\n",
       "      <td>58.0</td>\n",
       "      <td>NaN</td>\n",
       "    </tr>\n",
       "    <tr>\n",
       "      <th>986</th>\n",
       "      <td>2</td>\n",
       "      <td>汐止</td>\n",
       "      <td>2017-03-27</td>\n",
       "      <td>65</td>\n",
       "      <td>5.0</td>\n",
       "      <td>6.0</td>\n",
       "      <td>65.0</td>\n",
       "      <td>56.0</td>\n",
       "      <td>NaN</td>\n",
       "    </tr>\n",
       "    <tr>\n",
       "      <th>987</th>\n",
       "      <td>1</td>\n",
       "      <td>基隆</td>\n",
       "      <td>2017-03-27</td>\n",
       "      <td>68</td>\n",
       "      <td>3.0</td>\n",
       "      <td>9.0</td>\n",
       "      <td>68.0</td>\n",
       "      <td>50.0</td>\n",
       "      <td>NaN</td>\n",
       "    </tr>\n",
       "    <tr>\n",
       "      <th>988</th>\n",
       "      <td>83</td>\n",
       "      <td>麥寮</td>\n",
       "      <td>2017-03-26</td>\n",
       "      <td>60</td>\n",
       "      <td>7.0</td>\n",
       "      <td>NaN</td>\n",
       "      <td>NaN</td>\n",
       "      <td>60.0</td>\n",
       "      <td>NaN</td>\n",
       "    </tr>\n",
       "    <tr>\n",
       "      <th>989</th>\n",
       "      <td>80</td>\n",
       "      <td>關山</td>\n",
       "      <td>2017-03-26</td>\n",
       "      <td>37</td>\n",
       "      <td>2.0</td>\n",
       "      <td>NaN</td>\n",
       "      <td>37.0</td>\n",
       "      <td>20.0</td>\n",
       "      <td>NaN</td>\n",
       "    </tr>\n",
       "    <tr>\n",
       "      <th>990</th>\n",
       "      <td>78</td>\n",
       "      <td>馬公</td>\n",
       "      <td>2017-03-26</td>\n",
       "      <td>54</td>\n",
       "      <td>3.0</td>\n",
       "      <td>4.0</td>\n",
       "      <td>47.0</td>\n",
       "      <td>54.0</td>\n",
       "      <td>NaN</td>\n",
       "    </tr>\n",
       "    <tr>\n",
       "      <th>991</th>\n",
       "      <td>77</td>\n",
       "      <td>金門</td>\n",
       "      <td>2017-03-26</td>\n",
       "      <td>62</td>\n",
       "      <td>9.0</td>\n",
       "      <td>6.0</td>\n",
       "      <td>36.0</td>\n",
       "      <td>62.0</td>\n",
       "      <td>NaN</td>\n",
       "    </tr>\n",
       "    <tr>\n",
       "      <th>992</th>\n",
       "      <td>75</td>\n",
       "      <td>馬祖</td>\n",
       "      <td>2017-03-26</td>\n",
       "      <td>55</td>\n",
       "      <td>4.0</td>\n",
       "      <td>5.0</td>\n",
       "      <td>48.0</td>\n",
       "      <td>55.0</td>\n",
       "      <td>NaN</td>\n",
       "    </tr>\n",
       "    <tr>\n",
       "      <th>993</th>\n",
       "      <td>72</td>\n",
       "      <td>埔里</td>\n",
       "      <td>2017-03-26</td>\n",
       "      <td>28</td>\n",
       "      <td>3.0</td>\n",
       "      <td>5.0</td>\n",
       "      <td>28.0</td>\n",
       "      <td>17.0</td>\n",
       "      <td>NaN</td>\n",
       "    </tr>\n",
       "    <tr>\n",
       "      <th>994</th>\n",
       "      <td>71</td>\n",
       "      <td>復興</td>\n",
       "      <td>2017-03-26</td>\n",
       "      <td>39</td>\n",
       "      <td>4.0</td>\n",
       "      <td>11.0</td>\n",
       "      <td>NaN</td>\n",
       "      <td>39.0</td>\n",
       "      <td>NaN</td>\n",
       "    </tr>\n",
       "    <tr>\n",
       "      <th>995</th>\n",
       "      <td>70</td>\n",
       "      <td>永和</td>\n",
       "      <td>2017-03-26</td>\n",
       "      <td>58</td>\n",
       "      <td>1.0</td>\n",
       "      <td>9.0</td>\n",
       "      <td>NaN</td>\n",
       "      <td>58.0</td>\n",
       "      <td>NaN</td>\n",
       "    </tr>\n",
       "    <tr>\n",
       "      <th>996</th>\n",
       "      <td>69</td>\n",
       "      <td>竹山</td>\n",
       "      <td>2017-03-26</td>\n",
       "      <td>40</td>\n",
       "      <td>3.0</td>\n",
       "      <td>6.0</td>\n",
       "      <td>27.0</td>\n",
       "      <td>40.0</td>\n",
       "      <td>NaN</td>\n",
       "    </tr>\n",
       "    <tr>\n",
       "      <th>997</th>\n",
       "      <td>68</td>\n",
       "      <td>中壢</td>\n",
       "      <td>2017-03-26</td>\n",
       "      <td>66</td>\n",
       "      <td>6.0</td>\n",
       "      <td>14.0</td>\n",
       "      <td>NaN</td>\n",
       "      <td>66.0</td>\n",
       "      <td>NaN</td>\n",
       "    </tr>\n",
       "    <tr>\n",
       "      <th>998</th>\n",
       "      <td>67</td>\n",
       "      <td>三重</td>\n",
       "      <td>2017-03-26</td>\n",
       "      <td>70</td>\n",
       "      <td>5.0</td>\n",
       "      <td>21.0</td>\n",
       "      <td>NaN</td>\n",
       "      <td>70.0</td>\n",
       "      <td>NaN</td>\n",
       "    </tr>\n",
       "    <tr>\n",
       "      <th>999</th>\n",
       "      <td>66</td>\n",
       "      <td>冬山</td>\n",
       "      <td>2017-03-26</td>\n",
       "      <td>51</td>\n",
       "      <td>2.0</td>\n",
       "      <td>4.0</td>\n",
       "      <td>47.0</td>\n",
       "      <td>51.0</td>\n",
       "      <td>NaN</td>\n",
       "    </tr>\n",
       "  </tbody>\n",
       "</table>\n",
       "<p>1000 rows × 9 columns</p>\n",
       "</div>"
      ],
      "text/plain": [
       "     SiteId SiteName MonitorDate  PSI  SO2SubIndex  COSubIndex  O3SubIndex  \\\n",
       "0        83       麥寮  2017-04-08   52          4.0         NaN         NaN   \n",
       "1        80       關山  2017-04-08   25          2.0         NaN        25.0   \n",
       "2        78       馬公  2017-04-08   27          1.0         2.0        24.0   \n",
       "3        77       金門  2017-04-08   24          3.0         2.0        24.0   \n",
       "4        75       馬祖  2017-04-08   39          5.0         5.0        37.0   \n",
       "5        72       埔里  2017-04-08   61          2.0         3.0        61.0   \n",
       "6        71       復興  2017-04-08   37         14.0         8.0         NaN   \n",
       "7        70       永和  2017-04-08   55          4.0        18.0         NaN   \n",
       "8        69       竹山  2017-04-08   62          4.0         3.0        62.0   \n",
       "9        68       中壢  2017-04-08   58          6.0        17.0         NaN   \n",
       "10       67       三重  2017-04-08   61          6.0        16.0         NaN   \n",
       "11       66       冬山  2017-04-08   50          4.0         6.0        37.0   \n",
       "12       65       宜蘭  2017-04-08   44          2.0         4.0        42.0   \n",
       "13       64       陽明  2017-04-08   68          5.0         4.0        68.0   \n",
       "14       63       花蓮  2017-04-08   30          2.0         3.0        28.0   \n",
       "15       62       臺東  2017-04-08   31          2.0         5.0        18.0   \n",
       "16       61       恆春  2017-04-08   32          2.0         1.0        28.0   \n",
       "17       60       潮州  2017-04-08   49          3.0         3.0        49.0   \n",
       "18       59       屏東  2017-04-08   48          4.0         4.0        48.0   \n",
       "19       58       小港  2017-04-08   47         14.0         5.0        47.0   \n",
       "20       57       前鎮  2017-04-08   40         14.0         NaN         NaN   \n",
       "21       56       前金  2017-04-08   48         11.0         4.0        45.0   \n",
       "22       54       左營  2017-04-08   58          7.0         4.0        58.0   \n",
       "23       53       楠梓  2017-04-08   63          7.0         5.0        63.0   \n",
       "24       52       林園  2017-04-08   66          5.0         4.0        66.0   \n",
       "25       51       大寮  2017-04-08   47          6.0         4.0        42.0   \n",
       "26       50       鳳山  2017-04-08   52         10.0         9.0         NaN   \n",
       "27       49       仁武  2017-04-08   64          9.0         6.0        64.0   \n",
       "28       48       橋頭  2017-04-08   45          4.0         4.0        45.0   \n",
       "29       47       美濃  2017-04-08   78          3.0         3.0        78.0   \n",
       "..      ...      ...         ...  ...          ...         ...         ...   \n",
       "970      18       大園  2017-03-27   67          5.0         5.0        65.0   \n",
       "971      17       桃園  2017-03-27   61          5.0         6.0        56.0   \n",
       "972      16       大同  2017-03-27   74          6.0        10.0         NaN   \n",
       "973      15       松山  2017-03-27   59          3.0         7.0        59.0   \n",
       "974      14       古亭  2017-03-27   59          4.0         6.0        59.0   \n",
       "975      13       萬華  2017-03-27   61          5.0         7.0        50.0   \n",
       "976      12       中山  2017-03-27   63          5.0         8.0        48.0   \n",
       "977      11       士林  2017-03-27   60          6.0         4.0        59.0   \n",
       "978      10       淡水  2017-03-27   62          6.0         4.0        62.0   \n",
       "979       9       林口  2017-03-27   66          4.0         4.0        58.0   \n",
       "980       8       菜寮  2017-03-27   62          5.0         6.0        58.0   \n",
       "981       7       新莊  2017-03-27   62          4.0         8.0        59.0   \n",
       "982       6       板橋  2017-03-27   61          5.0         7.0        56.0   \n",
       "983       5       土城  2017-03-27   59          3.0         6.0        59.0   \n",
       "984       4       新店  2017-03-27   61          4.0         5.0        61.0   \n",
       "985       3       萬里  2017-03-27   72          4.0         4.0        72.0   \n",
       "986       2       汐止  2017-03-27   65          5.0         6.0        65.0   \n",
       "987       1       基隆  2017-03-27   68          3.0         9.0        68.0   \n",
       "988      83       麥寮  2017-03-26   60          7.0         NaN         NaN   \n",
       "989      80       關山  2017-03-26   37          2.0         NaN        37.0   \n",
       "990      78       馬公  2017-03-26   54          3.0         4.0        47.0   \n",
       "991      77       金門  2017-03-26   62          9.0         6.0        36.0   \n",
       "992      75       馬祖  2017-03-26   55          4.0         5.0        48.0   \n",
       "993      72       埔里  2017-03-26   28          3.0         5.0        28.0   \n",
       "994      71       復興  2017-03-26   39          4.0        11.0         NaN   \n",
       "995      70       永和  2017-03-26   58          1.0         9.0         NaN   \n",
       "996      69       竹山  2017-03-26   40          3.0         6.0        27.0   \n",
       "997      68       中壢  2017-03-26   66          6.0        14.0         NaN   \n",
       "998      67       三重  2017-03-26   70          5.0        21.0         NaN   \n",
       "999      66       冬山  2017-03-26   51          2.0         4.0        47.0   \n",
       "\n",
       "     PM10SubIndex  NO2SubIndex  \n",
       "0            52.0          NaN  \n",
       "1            23.0          NaN  \n",
       "2            27.0          NaN  \n",
       "3            23.0          NaN  \n",
       "4            39.0          NaN  \n",
       "5            45.0          NaN  \n",
       "6            37.0          NaN  \n",
       "7            55.0          NaN  \n",
       "8            52.0          NaN  \n",
       "9            58.0          NaN  \n",
       "10           61.0          NaN  \n",
       "11           50.0          NaN  \n",
       "12           44.0          NaN  \n",
       "13           32.0          NaN  \n",
       "14           30.0          NaN  \n",
       "15           31.0          NaN  \n",
       "16           32.0          NaN  \n",
       "17           40.0          NaN  \n",
       "18           41.0          NaN  \n",
       "19           41.0          NaN  \n",
       "20           40.0          NaN  \n",
       "21           48.0          NaN  \n",
       "22           51.0          NaN  \n",
       "23           56.0          NaN  \n",
       "24           28.0          NaN  \n",
       "25           47.0          NaN  \n",
       "26           52.0          NaN  \n",
       "27           50.0          NaN  \n",
       "28           40.0          NaN  \n",
       "29           36.0          NaN  \n",
       "..            ...          ...  \n",
       "970          67.0          NaN  \n",
       "971          61.0          NaN  \n",
       "972          74.0          NaN  \n",
       "973          58.0          NaN  \n",
       "974          58.0          NaN  \n",
       "975          61.0          NaN  \n",
       "976          63.0          NaN  \n",
       "977          60.0          NaN  \n",
       "978          59.0          NaN  \n",
       "979          66.0          NaN  \n",
       "980          62.0          NaN  \n",
       "981          62.0          NaN  \n",
       "982          61.0          NaN  \n",
       "983          56.0          NaN  \n",
       "984          58.0          NaN  \n",
       "985          58.0          NaN  \n",
       "986          56.0          NaN  \n",
       "987          50.0          NaN  \n",
       "988          60.0          NaN  \n",
       "989          20.0          NaN  \n",
       "990          54.0          NaN  \n",
       "991          62.0          NaN  \n",
       "992          55.0          NaN  \n",
       "993          17.0          NaN  \n",
       "994          39.0          NaN  \n",
       "995          58.0          NaN  \n",
       "996          40.0          NaN  \n",
       "997          66.0          NaN  \n",
       "998          70.0          NaN  \n",
       "999          51.0          NaN  \n",
       "\n",
       "[1000 rows x 9 columns]"
      ]
     },
     "execution_count": 9,
     "metadata": {},
     "output_type": "execute_result"
    }
   ],
   "source": [
    "air_data"
   ]
  },
  {
   "cell_type": "markdown",
   "metadata": {},
   "source": [
    "* ## 檢測同汙染物，多個地點，一段時間序列資料\n",
    "\n",
    "* ## 檢測單一個地點，不同汙染物，一段時間序列資料"
   ]
  },
  {
   "cell_type": "code",
   "execution_count": 10,
   "metadata": {},
   "outputs": [],
   "source": [
    "a = air_data[(air_data['SO2SubIndex'].notnull())&(air_data['PM10SubIndex'].notnull())]['PM10SubIndex']\n",
    "v = air_data[(air_data['SO2SubIndex'].notnull())&(air_data['PM10SubIndex'].notnull())]['SO2SubIndex']"
   ]
  },
  {
   "cell_type": "code",
   "execution_count": 11,
   "metadata": {
    "scrolled": true
   },
   "outputs": [
    {
     "data": {
      "text/plain": [
       "array(['2017-04-08', '2017-04-07', '2017-04-06', '2017-04-05',\n",
       "       '2017-04-04', '2017-04-03', '2017-04-02', '2017-04-01',\n",
       "       '2017-03-31', '2017-03-30', '2017-03-29', '2017-03-28',\n",
       "       '2017-03-27', '2017-03-26'], dtype=object)"
      ]
     },
     "execution_count": 11,
     "metadata": {},
     "output_type": "execute_result"
    }
   ],
   "source": [
    "air_data.MonitorDate.unique()"
   ]
  },
  {
   "cell_type": "markdown",
   "metadata": {},
   "source": [
    "## Using SciPy"
   ]
  },
  {
   "cell_type": "markdown",
   "metadata": {},
   "source": [
    "## 方差分析"
   ]
  },
  {
   "cell_type": "markdown",
   "metadata": {},
   "source": [
    "https://docs.scipy.org/doc/scipy/reference/generated/scipy.stats.f_oneway.html"
   ]
  },
  {
   "cell_type": "code",
   "execution_count": 12,
   "metadata": {},
   "outputs": [],
   "source": [
    "NOnull_data = air_data[(air_data['PM10SubIndex'].notnull())&(air_data['SO2SubIndex'].notnull())&(air_data['COSubIndex'].notnull())&(air_data['O3SubIndex'].notnull())]"
   ]
  },
  {
   "cell_type": "markdown",
   "metadata": {},
   "source": [
    "## 分析嘉義 PM10SubIndex,SO2SubIndex 和 COSubIndex 三個汙染物時間序列資料之間的關係"
   ]
  },
  {
   "cell_type": "code",
   "execution_count": 49,
   "metadata": {
    "scrolled": true
   },
   "outputs": [
    {
     "name": "stdout",
     "output_type": "stream",
     "text": [
      "f-test:  234.925797189    p_value:  2.19295033827e-21\n"
     ]
    }
   ],
   "source": [
    "# ANOVA\n",
    "import scipy.stats as stats\n",
    "PM10_SO2_COS_data = air_data[(air_data['PM10SubIndex'].notnull())&(air_data['SO2SubIndex'].notnull())&(air_data['COSubIndex'].notnull())]\n",
    "\n",
    "PM10_SO2_COS_data['PM10SubIndex']\n",
    "PM10_SO2_COS_data['SO2SubIndex']\n",
    "PM10_SO2_COS_data['COSubIndex']\n",
    "f_val, p_val = stats.f_oneway(NOnull_data[NOnull_data['SiteName']=='恆春']['PM10SubIndex'], NOnull_data[NOnull_data['SiteName']=='恆春']['SO2SubIndex'], NOnull_data[NOnull_data['SiteName']=='恆春']['COSubIndex'])\n",
    "print('f-test: ',f_val,'   p_value: ', p_val )"
   ]
  },
  {
   "cell_type": "markdown",
   "metadata": {},
   "source": [
    "F-值愈大，p-值愈小，差異愈顯著"
   ]
  },
  {
   "cell_type": "markdown",
   "metadata": {},
   "source": [
    " F - 值 = (組間變異)/(組內變異)\n",
    " \n",
    " 用來檢定兩個統計量是否估計相等的變異數。大的F值表示分子的統計量可能估計較大的變異數。\n",
    "\n",
    "F-檢定亦稱為變異數比例檢定。"
   ]
  },
  {
   "cell_type": "markdown",
   "metadata": {},
   "source": [
    "# T-test"
   ]
  },
  {
   "cell_type": "markdown",
   "metadata": {},
   "source": [
    "https://docs.scipy.org/doc/scipy/reference/generated/scipy.stats.ttest_ind.html"
   ]
  },
  {
   "cell_type": "markdown",
   "metadata": {},
   "source": [
    "* ## 單一個地點，不同汙染物，一段時間序列資料"
   ]
  },
  {
   "cell_type": "code",
   "execution_count": 17,
   "metadata": {},
   "outputs": [],
   "source": [
    "from scipy.stats import ttest_ind"
   ]
  },
  {
   "cell_type": "code",
   "execution_count": 18,
   "metadata": {},
   "outputs": [],
   "source": [
    "pollutions = ['PM10SubIndex','O3SubIndex','COSubIndex','SO2SubIndex']"
   ]
  },
  {
   "cell_type": "markdown",
   "metadata": {},
   "source": [
    "###  目標：\n",
    "### 檢定嘉義 'O3SubIndex' 和 'COSubIndex' 兩個汙染物時間序列資料之間的關係"
   ]
  },
  {
   "cell_type": "code",
   "execution_count": 48,
   "metadata": {},
   "outputs": [
    {
     "data": {
      "text/plain": [
       "Ttest_indResult(statistic=20.295931177699853, pvalue=1.2830279199848577e-16)"
      ]
     },
     "execution_count": 48,
     "metadata": {},
     "output_type": "execute_result"
    }
   ],
   "source": [
    "ttest_ind(NOnull_data[NOnull_data['SiteName']=='嘉義'][pollutions[1]],NOnull_data[NOnull_data['SiteName']=='嘉義'][pollutions[2]])"
   ]
  },
  {
   "cell_type": "markdown",
   "metadata": {},
   "source": [
    "### 結果\n",
    "\n",
    "### 嘉義 'O3SubIndex' 和 'COSubIndex' 兩個汙染物的關連性極高"
   ]
  },
  {
   "cell_type": "code",
   "execution_count": 38,
   "metadata": {
    "scrolled": true
   },
   "outputs": [
    {
     "data": {
      "text/plain": [
       "34     48.0\n",
       "110    62.0\n",
       "186    76.0\n",
       "262    68.0\n",
       "338    66.0\n",
       "414    83.0\n",
       "490    77.0\n",
       "566    67.0\n",
       "642    45.0\n",
       "718    68.0\n",
       "794    66.0\n",
       "870    62.0\n",
       "946    66.0\n",
       "Name: O3SubIndex, dtype: float64"
      ]
     },
     "execution_count": 38,
     "metadata": {},
     "output_type": "execute_result"
    }
   ],
   "source": [
    "NOnull_data[NOnull_data['SiteName']=='嘉義'][pollutions[1]]"
   ]
  },
  {
   "cell_type": "markdown",
   "metadata": {},
   "source": [
    "### 目標 : \n",
    "### 查看 (  淡水 新竹 南投 二林 嘉義 左營) 這6個地點中，4個空氣汙染物之間的關聯性"
   ]
  },
  {
   "cell_type": "code",
   "execution_count": 27,
   "metadata": {
    "scrolled": true
   },
   "outputs": [],
   "source": [
    "import seaborn as sns\n",
    "matplotlib.rc('xtick', labelsize=20)\n",
    "matplotlib.rc('ytick', labelsize=20)\n",
    "\n",
    "def singleplace(site):\n",
    "    \n",
    "    pollutions = ['PM10SubIndex','O3SubIndex','COSubIndex','SO2SubIndex']\n",
    "    pollution = ['PM10','O3','CO','SO2']\n",
    "    cor = np.zeros([4,4])\n",
    "\n",
    "    for i in (0,1,2,3):\n",
    "        for j in (0,1,2,3):\n",
    "            if (i!=j):\n",
    "                val = ttest_ind(NOnull_data[NOnull_data['SiteName']==site][pollutions[i]],NOnull_data[NOnull_data['SiteName']==site][pollutions[j]])\n",
    "                cor[i,j] = val.pvalue\n",
    "                #print(pollutions[i],'&',pollutions[j],'',val.pvalue)\n",
    "                #print(val)\n",
    "\n",
    "    \n",
    "    fig, ax = plt.subplots()\n",
    "\n",
    "\n",
    "    ax = sns.heatmap(cor)\n",
    "    pollution.reverse()\n",
    "    ax.set_yticklabels(pollution) # set the labels\n",
    "    pollution.reverse()\n",
    "    ax.set_xticklabels(pollution)\n",
    "    ax.set_title(site,size=20)\n"
   ]
  },
  {
   "cell_type": "code",
   "execution_count": 28,
   "metadata": {
    "scrolled": true
   },
   "outputs": [
    {
     "data": {
      "image/png": "[encoded data removed]",
      "text/plain": [
       "<matplotlib.figure.Figure at 0x2719aaa82e8>"
      ]
     },
     "metadata": {},
     "output_type": "display_data"
    },
    {
     "data": {
      "image/png": "[encoded data removed]",
      "text/plain": [
       "<matplotlib.figure.Figure at 0x2719a9ecbe0>"
      ]
     },
     "metadata": {},
     "output_type": "display_data"
    },
    {
     "data": {
      "image/png": "[encoded data removed]",
      "text/plain": [
       "<matplotlib.figure.Figure at 0x2719a99c630>"
      ]
     },
     "metadata": {},
     "output_type": "display_data"
    },
    {
     "data": {
      "image/png": "[encoded data removed]",
      "text/plain": [
       "<matplotlib.figure.Figure at 0x2719adb6358>"
      ]
     },
     "metadata": {},
     "output_type": "display_data"
    },
    {
     "data": {
      "image/png": "[encoded data removed]",
      "text/plain": [
       "<matplotlib.figure.Figure at 0x2719aab8dd8>"
      ]
     },
     "metadata": {},
     "output_type": "display_data"
    },
    {
     "data": {
      "image/png": "[encoded data removed]",
      "text/plain": [
       "<matplotlib.figure.Figure at 0x2719a70f6d8>"
      ]
     },
     "metadata": {},
     "output_type": "display_data"
    }
   ],
   "source": [
    "singleplace('淡水')\n",
    "singleplace('新竹')\n",
    "singleplace('南投')\n",
    "singleplace('二林')\n",
    "singleplace('嘉義')\n",
    "singleplace('左營')"
   ]
  },
  {
   "cell_type": "markdown",
   "metadata": {},
   "source": [
    "## 洞察\n",
    "* ## 從'嘉義' 的4個汙染物交互比較\n",
    "* ## SO2SubIndex & COSubIndex 交叉的顏色較深，所以關聯性較低(因為pvalue較高)"
   ]
  },
  {
   "cell_type": "markdown",
   "metadata": {},
   "source": []
  },
  {
   "cell_type": "markdown",
   "metadata": {},
   "source": [
    "## 將地理位置較近的地區稍做分類\n",
    "\n",
    "*  '馬公', '金門', '馬祖'\n",
    "*   '恆春', '潮州', '屏東', '小港', '前鎮', '前金','左營', '楠梓', '林園', '大寮', '鳳山', '仁武', '橋頭', '美濃',\n",
    "*   '臺南', '安南', '善化','新營', '嘉義', '臺西', '朴子', '新港', '崙背', '斗六',\n",
    "*   '大同', '松山', '古亭', '萬華', '中山', '士林',   '淡水', '林口', '菜寮', '新莊', '板橋', '土城', '新店', '萬里', '汐止', '基隆'\n",
    "*   '南投', '二林', '線西', '彰化','西屯', '忠明', '大里', '沙鹿', '豐原', '三義', '苗栗'\n",
    "\n",
    "*  '頭份', '新竹', '竹東', '湖口','龍潭', '平鎮', '觀音', '大園', \n"
   ]
  },
  {
   "cell_type": "markdown",
   "metadata": {},
   "source": [
    "### 目標：\n",
    "### 抓取分散在離島、本島的各個地點分析其PM10的關聯性\n"
   ]
  },
  {
   "cell_type": "code",
   "execution_count": 25,
   "metadata": {},
   "outputs": [],
   "source": [
    "places = [ '金門', '馬祖', '淡水',  '士林','基隆' , '苗栗', '二林' ,'新竹','龍潭' ]"
   ]
  },
  {
   "cell_type": "code",
   "execution_count": 26,
   "metadata": {},
   "outputs": [
    {
     "data": {
      "text/plain": [
       "[<matplotlib.text.Text at 0x2719ad49d30>,\n",
       " <matplotlib.text.Text at 0x2719ad4e240>,\n",
       " <matplotlib.text.Text at 0x2719ad84be0>,\n",
       " <matplotlib.text.Text at 0x2719ad92198>,\n",
       " <matplotlib.text.Text at 0x2719ad472b0>,\n",
       " <matplotlib.text.Text at 0x2719ad96b00>,\n",
       " <matplotlib.text.Text at 0x2719ad9a748>,\n",
       " <matplotlib.text.Text at 0x2719ad9f390>,\n",
       " <matplotlib.text.Text at 0x2719ad9ff98>]"
      ]
     },
     "execution_count": 26,
     "metadata": {},
     "output_type": "execute_result"
    },
    {
     "data": {
      "image/png": "[encoded data removed]",
      "text/plain": [
       "<matplotlib.figure.Figure at 0x2719a9f1780>"
      ]
     },
     "metadata": {},
     "output_type": "display_data"
    }
   ],
   "source": [
    "import seaborn as sns\n",
    "matplotlib.rc('xtick', labelsize=18)\n",
    "matplotlib.rc('ytick', labelsize=18)\n",
    "matplotlib.rcParams['font.sans-serif'] = 'Microsoft JhengHei'\n",
    "\n",
    "cor = np.zeros([9,9])\n",
    "\n",
    "for i in range(9):\n",
    "    for j in range(9):\n",
    "        if (i!=j):\n",
    "            val = ttest_ind(NOnull_data[NOnull_data['SiteName']==places[i]][pollutions[0]],NOnull_data[NOnull_data['SiteName']==places[j]][pollutions[0]])\n",
    "            cor[i,j] = 2**(val.pvalue)\n",
    "            #print(place[i],'&',place[j],' : ',  val.pvalue)\n",
    "            #print()\n",
    "\n",
    "fig, ax =  plt.subplots(figsize=(11, 9))\n",
    "\n",
    "\n",
    "\n",
    "#ax = sns.heatmap(cor, vmax=.3, center=0, square=True, linewidths=.5, cbar_kws={\"shrink\": .5})\n",
    "\n",
    "ax = sns.heatmap(cor)\n",
    "places.reverse()\n",
    "ax.set_yticklabels(places,rotation=45) # set the labels\n",
    "places.reverse()\n",
    "ax.set_xticklabels(places)\n",
    "\n"
   ]
  },
  {
   "cell_type": "markdown",
   "metadata": {},
   "source": [
    "## 結果\n",
    "\n",
    "* ## 以上地點為抓取分散在離島、本島的各個地點\n",
    "* ## 顏色愈深代表兩地區空氣汙染物(PM10)指數的關聯性愈低\n",
    "* ## 顏色較深關聯性較低(因為pvalue較高)"
   ]
  },
  {
   "cell_type": "markdown",
   "metadata": {},
   "source": [
    "# ANOVA"
   ]
  },
  {
   "cell_type": "code",
   "execution_count": 14,
   "metadata": {},
   "outputs": [],
   "source": [
    "\n",
    "import statsmodels.api as sm\n",
    "from statsmodels.formula.api import ols"
   ]
  },
  {
   "cell_type": "code",
   "execution_count": 29,
   "metadata": {},
   "outputs": [],
   "source": [
    "df = NOnull_data[NOnull_data['SiteName']==places[0]]"
   ]
  },
  {
   "cell_type": "code",
   "execution_count": 30,
   "metadata": {},
   "outputs": [
    {
     "data": {
      "text/html": [
       "<div>\n",
       "<style>\n",
       "    .dataframe thead tr:only-child th {\n",
       "        text-align: right;\n",
       "    }\n",
       "\n",
       "    .dataframe thead th {\n",
       "        text-align: left;\n",
       "    }\n",
       "\n",
       "    .dataframe tbody tr th {\n",
       "        vertical-align: top;\n",
       "    }\n",
       "</style>\n",
       "<table border=\"1\" class=\"dataframe\">\n",
       "  <thead>\n",
       "    <tr style=\"text-align: right;\">\n",
       "      <th></th>\n",
       "      <th>SiteId</th>\n",
       "      <th>SiteName</th>\n",
       "      <th>MonitorDate</th>\n",
       "      <th>PSI</th>\n",
       "      <th>SO2SubIndex</th>\n",
       "      <th>COSubIndex</th>\n",
       "      <th>O3SubIndex</th>\n",
       "      <th>PM10SubIndex</th>\n",
       "      <th>NO2SubIndex</th>\n",
       "    </tr>\n",
       "  </thead>\n",
       "  <tbody>\n",
       "    <tr>\n",
       "      <th>3</th>\n",
       "      <td>77</td>\n",
       "      <td>金門</td>\n",
       "      <td>2017-04-08</td>\n",
       "      <td>24</td>\n",
       "      <td>3.0</td>\n",
       "      <td>2.0</td>\n",
       "      <td>24.0</td>\n",
       "      <td>23.0</td>\n",
       "      <td>NaN</td>\n",
       "    </tr>\n",
       "    <tr>\n",
       "      <th>79</th>\n",
       "      <td>77</td>\n",
       "      <td>金門</td>\n",
       "      <td>2017-04-07</td>\n",
       "      <td>43</td>\n",
       "      <td>8.0</td>\n",
       "      <td>4.0</td>\n",
       "      <td>27.0</td>\n",
       "      <td>43.0</td>\n",
       "      <td>NaN</td>\n",
       "    </tr>\n",
       "    <tr>\n",
       "      <th>155</th>\n",
       "      <td>77</td>\n",
       "      <td>金門</td>\n",
       "      <td>2017-04-06</td>\n",
       "      <td>58</td>\n",
       "      <td>8.0</td>\n",
       "      <td>4.0</td>\n",
       "      <td>30.0</td>\n",
       "      <td>58.0</td>\n",
       "      <td>NaN</td>\n",
       "    </tr>\n",
       "    <tr>\n",
       "      <th>231</th>\n",
       "      <td>77</td>\n",
       "      <td>金門</td>\n",
       "      <td>2017-04-05</td>\n",
       "      <td>73</td>\n",
       "      <td>8.0</td>\n",
       "      <td>7.0</td>\n",
       "      <td>55.0</td>\n",
       "      <td>73.0</td>\n",
       "      <td>NaN</td>\n",
       "    </tr>\n",
       "    <tr>\n",
       "      <th>307</th>\n",
       "      <td>77</td>\n",
       "      <td>金門</td>\n",
       "      <td>2017-04-04</td>\n",
       "      <td>70</td>\n",
       "      <td>10.0</td>\n",
       "      <td>5.0</td>\n",
       "      <td>66.0</td>\n",
       "      <td>70.0</td>\n",
       "      <td>NaN</td>\n",
       "    </tr>\n",
       "    <tr>\n",
       "      <th>383</th>\n",
       "      <td>77</td>\n",
       "      <td>金門</td>\n",
       "      <td>2017-04-03</td>\n",
       "      <td>66</td>\n",
       "      <td>8.0</td>\n",
       "      <td>4.0</td>\n",
       "      <td>61.0</td>\n",
       "      <td>66.0</td>\n",
       "      <td>NaN</td>\n",
       "    </tr>\n",
       "    <tr>\n",
       "      <th>459</th>\n",
       "      <td>77</td>\n",
       "      <td>金門</td>\n",
       "      <td>2017-04-02</td>\n",
       "      <td>74</td>\n",
       "      <td>9.0</td>\n",
       "      <td>5.0</td>\n",
       "      <td>64.0</td>\n",
       "      <td>74.0</td>\n",
       "      <td>NaN</td>\n",
       "    </tr>\n",
       "    <tr>\n",
       "      <th>535</th>\n",
       "      <td>77</td>\n",
       "      <td>金門</td>\n",
       "      <td>2017-04-01</td>\n",
       "      <td>66</td>\n",
       "      <td>5.0</td>\n",
       "      <td>5.0</td>\n",
       "      <td>66.0</td>\n",
       "      <td>60.0</td>\n",
       "      <td>NaN</td>\n",
       "    </tr>\n",
       "    <tr>\n",
       "      <th>611</th>\n",
       "      <td>77</td>\n",
       "      <td>金門</td>\n",
       "      <td>2017-03-31</td>\n",
       "      <td>56</td>\n",
       "      <td>7.0</td>\n",
       "      <td>5.0</td>\n",
       "      <td>39.0</td>\n",
       "      <td>56.0</td>\n",
       "      <td>NaN</td>\n",
       "    </tr>\n",
       "    <tr>\n",
       "      <th>687</th>\n",
       "      <td>77</td>\n",
       "      <td>金門</td>\n",
       "      <td>2017-03-30</td>\n",
       "      <td>78</td>\n",
       "      <td>12.0</td>\n",
       "      <td>6.0</td>\n",
       "      <td>62.0</td>\n",
       "      <td>78.0</td>\n",
       "      <td>NaN</td>\n",
       "    </tr>\n",
       "    <tr>\n",
       "      <th>763</th>\n",
       "      <td>77</td>\n",
       "      <td>金門</td>\n",
       "      <td>2017-03-29</td>\n",
       "      <td>81</td>\n",
       "      <td>13.0</td>\n",
       "      <td>6.0</td>\n",
       "      <td>62.0</td>\n",
       "      <td>81.0</td>\n",
       "      <td>NaN</td>\n",
       "    </tr>\n",
       "    <tr>\n",
       "      <th>839</th>\n",
       "      <td>77</td>\n",
       "      <td>金門</td>\n",
       "      <td>2017-03-28</td>\n",
       "      <td>78</td>\n",
       "      <td>9.0</td>\n",
       "      <td>5.0</td>\n",
       "      <td>64.0</td>\n",
       "      <td>78.0</td>\n",
       "      <td>NaN</td>\n",
       "    </tr>\n",
       "    <tr>\n",
       "      <th>915</th>\n",
       "      <td>77</td>\n",
       "      <td>金門</td>\n",
       "      <td>2017-03-27</td>\n",
       "      <td>83</td>\n",
       "      <td>12.0</td>\n",
       "      <td>6.0</td>\n",
       "      <td>59.0</td>\n",
       "      <td>83.0</td>\n",
       "      <td>NaN</td>\n",
       "    </tr>\n",
       "    <tr>\n",
       "      <th>991</th>\n",
       "      <td>77</td>\n",
       "      <td>金門</td>\n",
       "      <td>2017-03-26</td>\n",
       "      <td>62</td>\n",
       "      <td>9.0</td>\n",
       "      <td>6.0</td>\n",
       "      <td>36.0</td>\n",
       "      <td>62.0</td>\n",
       "      <td>NaN</td>\n",
       "    </tr>\n",
       "  </tbody>\n",
       "</table>\n",
       "</div>"
      ],
      "text/plain": [
       "     SiteId SiteName MonitorDate  PSI  SO2SubIndex  COSubIndex  O3SubIndex  \\\n",
       "3        77       金門  2017-04-08   24          3.0         2.0        24.0   \n",
       "79       77       金門  2017-04-07   43          8.0         4.0        27.0   \n",
       "155      77       金門  2017-04-06   58          8.0         4.0        30.0   \n",
       "231      77       金門  2017-04-05   73          8.0         7.0        55.0   \n",
       "307      77       金門  2017-04-04   70         10.0         5.0        66.0   \n",
       "383      77       金門  2017-04-03   66          8.0         4.0        61.0   \n",
       "459      77       金門  2017-04-02   74          9.0         5.0        64.0   \n",
       "535      77       金門  2017-04-01   66          5.0         5.0        66.0   \n",
       "611      77       金門  2017-03-31   56          7.0         5.0        39.0   \n",
       "687      77       金門  2017-03-30   78         12.0         6.0        62.0   \n",
       "763      77       金門  2017-03-29   81         13.0         6.0        62.0   \n",
       "839      77       金門  2017-03-28   78          9.0         5.0        64.0   \n",
       "915      77       金門  2017-03-27   83         12.0         6.0        59.0   \n",
       "991      77       金門  2017-03-26   62          9.0         6.0        36.0   \n",
       "\n",
       "     PM10SubIndex  NO2SubIndex  \n",
       "3            23.0          NaN  \n",
       "79           43.0          NaN  \n",
       "155          58.0          NaN  \n",
       "231          73.0          NaN  \n",
       "307          70.0          NaN  \n",
       "383          66.0          NaN  \n",
       "459          74.0          NaN  \n",
       "535          60.0          NaN  \n",
       "611          56.0          NaN  \n",
       "687          78.0          NaN  \n",
       "763          81.0          NaN  \n",
       "839          78.0          NaN  \n",
       "915          83.0          NaN  \n",
       "991          62.0          NaN  "
      ]
     },
     "execution_count": 30,
     "metadata": {},
     "output_type": "execute_result"
    }
   ],
   "source": [
    "df"
   ]
  },
  {
   "cell_type": "markdown",
   "metadata": {},
   "source": [
    "## 目標：\n",
    "## 嘗試ANOVA的方法，分析在金門地區4個汙染物中哪一個對PSI影響最大\n"
   ]
  },
  {
   "cell_type": "code",
   "execution_count": 39,
   "metadata": {},
   "outputs": [
    {
     "name": "stdout",
     "output_type": "stream",
     "text": [
      "                  sum_sq   df           F    PR(>F)\n",
      "PM10SubIndex  193.649042  1.0  115.096854  0.000002\n",
      "O3SubIndex      5.711137  1.0    3.394460  0.098534\n",
      "COSubIndex      1.921824  1.0    1.142251  0.313003\n",
      "SO2SubIndex     2.231191  1.0    1.326126  0.279168\n",
      "Residual       15.142389  9.0         NaN       NaN\n"
     ]
    }
   ],
   "source": [
    "\n",
    "mod = ols('PSI  ~ PM10SubIndex + O3SubIndex + COSubIndex + SO2SubIndex ',\n",
    "                data=df).fit()\n",
    "                \n",
    "aov_table = sm.stats.anova_lm(mod, typ=2)\n",
    "print (aov_table)"
   ]
  },
  {
   "cell_type": "markdown",
   "metadata": {},
   "source": [
    "## 結果：在金門地區，PM10對PSI的影響最大，而其他空氣分子對PSI影響甚小"
   ]
  },
  {
   "cell_type": "markdown",
   "metadata": {},
   "source": [
    "# *"
   ]
  },
  {
   "cell_type": "markdown",
   "metadata": {},
   "source": [
    "## 目標：\n",
    "## 嘗試ANOVA的方法，分析在嘉義二林地區4個汙染物中哪一個對PSI影響最大"
   ]
  },
  {
   "cell_type": "code",
   "execution_count": 44,
   "metadata": {},
   "outputs": [],
   "source": [
    "df1 = NOnull_data[NOnull_data['SiteName']==places[6]]"
   ]
  },
  {
   "cell_type": "code",
   "execution_count": 45,
   "metadata": {},
   "outputs": [
    {
     "name": "stdout",
     "output_type": "stream",
     "text": [
      "                 sum_sq   df          F    PR(>F)\n",
      "PM10SubIndex  75.623724  1.0  12.525527  0.007629\n",
      "O3SubIndex    90.573669  1.0  15.001681  0.004720\n",
      "COSubIndex     0.443071  1.0   0.073386  0.793328\n",
      "SO2SubIndex    7.080474  1.0   1.172736  0.310397\n",
      "Residual      48.300544  8.0        NaN       NaN\n"
     ]
    }
   ],
   "source": [
    "mod = ols('PSI  ~ PM10SubIndex + O3SubIndex + COSubIndex + SO2SubIndex ',\n",
    "                data=df1).fit()\n",
    "                \n",
    "aov_table = sm.stats.anova_lm(mod, typ=2)\n",
    "print (aov_table)"
   ]
  },
  {
   "cell_type": "markdown",
   "metadata": {},
   "source": [
    "## 結果：在嘉義二林地區，O3對PSI的影響最大，而第二個對PSI影響比較大的是O3"
   ]
  },
  {
   "cell_type": "code",
   "execution_count": null,
   "metadata": {},
   "outputs": [],
   "source": []
  }
 ],
 "metadata": {
  "kernelspec": {
   "display_name": "Python [conda root]",
   "language": "python",
   "name": "conda-root-py"
  },
  "language_info": {
   "codemirror_mode": {
    "name": "ipython",
    "version": 3
   },
   "file_extension": ".py",
   "mimetype": "text/x-python",
   "name": "python",
   "nbconvert_exporter": "python",
   "pygments_lexer": "ipython3",
   "version": "3.5.3"
  }
 },
 "nbformat": 4,
 "nbformat_minor": 2
}
