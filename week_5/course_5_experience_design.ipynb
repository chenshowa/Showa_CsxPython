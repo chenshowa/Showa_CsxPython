{
 "cells": [
  {
   "cell_type": "markdown",
   "metadata": {},
   "source": [
    "## "
   ]
  },
  {
   "cell_type": "code",
   "execution_count": 1,
   "metadata": {
    "collapsed": true
   },
   "outputs": [],
   "source": [
    "import requests\n",
    "import json\n",
    "import pandas as pd\n"
   ]
  },
  {
   "cell_type": "code",
   "execution_count": null,
   "metadata": {
    "collapsed": false
   },
   "outputs": [],
   "source": [
    "df = pd.read_csv(r'C:\\Users\\chenhur\\Documents\\GitHub\\Showa_CsxPython\\Ntu_DataSet\\Ntu_Orders.csv')\n",
    "df_Ecoup = pd.read_csv(r'C:\\Users\\chenhur\\Documents\\GitHub\\Showa_CsxPython\\Ntu_DataSet\\NTU_1317_Ecoupon.txt', delimiter=',')\n",
    "#df_Mem = pd.read_csv(r'C:\\Users\\chenhur\\Documents\\GitHub\\Showa_CsxPython\\Ntu_DataSet\\NTU_1317_Member.txt')\n",
    "#df_Prom = pd.read_csv(r'C:\\Users\\chenhur\\Documents\\GitHub\\Showa_CsxPython\\Ntu_DataSet\\NTU_1317_Promotion.txt')\n",
    "#df_PromOr = pd.read_csv(r'C:\\Users\\chenhur\\Documents\\GitHub\\Showa_CsxPython\\Ntu_DataSet\\NTU_1317_PromotionOrders.txt')"
   ]
  },
  {
   "cell_type": "code",
   "execution_count": null,
   "metadata": {
    "collapsed": false
   },
   "outputs": [],
   "source": [
    "df_Ecoup = pd.read_csv(r'C:\\Users\\chenhur\\Documents\\GitHub\\Showa_CsxPython\\Ntu_DataSet\\NTU_1317_Ecoupon.txt', sep=\" \")\n",
    "df_Ecoup"
   ]
  },
  {
   "cell_type": "markdown",
   "metadata": {
    "collapsed": false
   },
   "source": [
    "\n"
   ]
  },
  {
   "cell_type": "code",
   "execution_count": null,
   "metadata": {
    "collapsed": false
   },
   "outputs": [],
   "source": []
  },
  {
   "cell_type": "code",
   "execution_count": null,
   "metadata": {
    "collapsed": false
   },
   "outputs": [],
   "source": []
  }
 ],
 "metadata": {
  "anaconda-cloud": {},
  "celltoolbar": "Edit Metadata",
  "kernelspec": {
   "display_name": "Python [default]",
   "language": "python",
   "name": "python3"
  }
 },
 "nbformat": 4,
 "nbformat_minor": 1
}
