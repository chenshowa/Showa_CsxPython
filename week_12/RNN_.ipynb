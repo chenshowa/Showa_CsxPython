{
 "cells": [
  {
   "cell_type": "code",
   "execution_count": null,
   "metadata": {},
   "outputs": [],
   "source": []
  },
  {
   "cell_type": "code",
   "execution_count": null,
   "metadata": {},
   "outputs": [],
   "source": []
  },
  {
   "cell_type": "code",
   "execution_count": null,
   "metadata": {},
   "outputs": [],
   "source": [
    "class LR(nn.Module): # 繼承torch.nn.module特性\n",
    "    \n",
    "    # 架構\n",
    "    def __init__(self):\n",
    "        super(LR, self).__init__() # super(LR, self) 繼承自己的__init__()\n",
    "        self.hidden1 = nn.Linear(9, 100) # input 9, hidden 40  Linear全連接\n",
    "        self.dropout = nn.Dropout(0.1)\n",
    "        self.hidden2 = nn.Linear(100, 80) # input 40, hidden 40  Linear全連接\n",
    "        self.hidden3 = nn.Linear(80, 60) # input 40, hidden 40  Linear全連接\n",
    "        self.hidden4 = nn.Linear(60, 10) # input 40, hidden 30  Linear全連接\n",
    "        self.hidden5 = nn.Linear(10, 1) # hidden 10, output 1\n",
    "\n",
    "    # 運作流程（資料流）\n",
    "    def forward(self, x):  \n",
    "        x = F.relu(self.hidden1(x)) # 讓x由hidden1後，進入activation function\n",
    "        x = F.dropout(self.dropout(x))\n",
    "        x = F.relu(self.hidden2(x))\n",
    "        x = F.dropout(self.dropout(x))\n",
    "        x = F.relu(self.hidden3(x))\n",
    "        x = F.dropout(self.dropout(x))\n",
    "        x = F.relu(self.hidden4(x))\n",
    "        out = self.hidden5(x)\n",
    "        return out"
   ]
  },
  {
   "cell_type": "code",
   "execution_count": null,
   "metadata": {},
   "outputs": [],
   "source": [
    "model = LR()\n",
    "loss_func = nn.MSELoss()\n",
    "learning_rate = 0.03\n",
    "optimizer = torch.optim.SGD(model.parameters(), lr=learning_rate) #model.parameters() 所有訓練的參數都在這\n",
    "# model.cuda()"
   ]
  },
  {
   "cell_type": "code",
   "execution_count": null,
   "metadata": {},
   "outputs": [],
   "source": []
  },
  {
   "cell_type": "code",
   "execution_count": null,
   "metadata": {},
   "outputs": [],
   "source": [
    "class CNNModel(nn.Module):\n",
    "    def __init__(self):\n",
    "        super(CNNModel, self).__init__()\n",
    "        # conv 1                      # (1,28,28)\n",
    "        self.conv1 = nn.Conv2d(in_channels=1, out_channels=16, kernel_size=5, stride=1, padding=2)\n",
    "        self.relu1 = nn.ReLU()        # (16,28,28)  28+4-5+1  (5,1-kenel 4 保留沒有捲機到的邊邊 )\n",
    "        # max 1\n",
    "        self.maxpool1 = nn.MaxPool2d(kernel_size=2)\n",
    "                                      # (16,14,14)\n",
    "        # conv 2\n",
    "        self.conv2 = nn.Conv2d(in_channels=16, out_channels=32, kernel_size=5, stride=1, padding=2)\n",
    "        self.relu2 = nn.ReLU()        # (32,14,14) 14+4-5+1\n",
    "        \n",
    "        # max 2\n",
    "        self.maxpool2 = nn.MaxPool2d(kernel_size=2)\n",
    "                                      # (32, 7, 7)\n",
    "        # fully connected layer\n",
    "        self.fc1 = nn.Linear(32 * 7 * 7, 10)\n",
    "\n",
    "    def forward(self, x):\n",
    "        # conv 1\n",
    "        x = self.conv1(x)\n",
    "        x = self.relu1(x)\n",
    "        x = self.maxpool1(x)\n",
    "        # conv 2\n",
    "        x = self.conv2(x)\n",
    "        x = self.relu2(x)\n",
    "        x = self.maxpool2(x)\n",
    "\n",
    "        # flatten\n",
    "        x = x.view(x.size(0), -1)\n",
    "        out = self.fc1(x)\n",
    "\n",
    "        return out"
   ]
  },
  {
   "cell_type": "code",
   "execution_count": null,
   "metadata": {},
   "outputs": [],
   "source": []
  }
 ],
 "metadata": {
  "kernelspec": {
   "display_name": "Python [conda env:Anaconda3]",
   "language": "python",
   "name": "conda-env-Anaconda3-py"
  },
  "language_info": {
   "codemirror_mode": {
    "name": "ipython",
    "version": 3
   },
   "file_extension": ".py",
   "mimetype": "text/x-python",
   "name": "python",
   "nbconvert_exporter": "python",
   "pygments_lexer": "ipython3",
   "version": "3.5.3"
  }
 },
 "nbformat": 4,
 "nbformat_minor": 2
}
